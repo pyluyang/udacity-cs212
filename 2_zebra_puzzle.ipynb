{
 "cells": [
  {
   "cell_type": "markdown",
   "metadata": {},
   "source": [
    "# 1 问题\n",
    "\n",
    "5个不同国家且工作各不相同的人分别住在一条街上的5所房子里，每所房子的颜色不同，每个人都有自己养的不同的宠物，喜欢喝不同的饮料。\n",
    "根据以下提示，哪个房子里的人养斑马（zebra），哪个房子里的人喜欢喝矿泉水？\n",
    "\n",
    "1. 英国人住在红色的房子里。\n",
    "2. 西班牙人养了一条狗。\n",
    "3. 日本人是一个油漆工。\n",
    "4. 意大利人喜欢喝茶。\n",
    "5. 挪威人住在左边的第一个房子里。\n",
    "6. 绿房子在白房子的右边。\n",
    "7. 摄影师养了一只蜗牛。\n",
    "8. 外交官住在黄房子里。\n",
    "9. 中间那个房子里的人喜欢喝牛奶。\n",
    "10. 喜欢喝咖啡的人住在绿房子里。\n",
    "11. 挪威人住在蓝色的房子旁边。\n",
    "12. 小提琴家喜欢喝橘子汁。\n",
    "13. 养狐狸的人所住的房子与医师的房子相邻。\n",
    "14. 养马（非斑马）的人所住的房子与外交官的房子相邻。"
   ]
  },
  {
   "cell_type": "markdown",
   "metadata": {},
   "source": [
    "# 2 程序方案"
   ]
  },
  {
   "cell_type": "code",
   "execution_count": 1,
   "metadata": {},
   "outputs": [],
   "source": [
    "import itertools\n",
    "\n",
    "houses = [1, 2, 3, 4, 5]\n",
    "orderings = list(itertools.permutations(houses))\n",
    "\n",
    "def imright(h1, h2):\n",
    "    \"House h1 is immediately right of h2 if h1-h2 == 1.\"\n",
    "    return h1-h2 == 1\n",
    "\n",
    "def nextto(h1, h2):\n",
    "    \"Two houses are next to each other if they differ by 1.\"\n",
    "    return abs(h1-h2)==1"
   ]
  },
  {
   "cell_type": "code",
   "execution_count": null,
   "metadata": {},
   "outputs": [],
   "source": [
    "# slow sulution，不要执行时间需要一个小时以上\n",
    "def zebra_puzzle():\n",
    "    houses = first,_,middle,_,_=[1, 2, 3, 4, 5]\n",
    "    orderings = list(itertools.permutations(houses))\n",
    "    return next((WATER,ZEBRA) # 生成器表达式\n",
    "                for (red, green, ivory, yellow, blue) in orderings\n",
    "                for (Englishman, Spaniard, Ukranian, Japnaes, Norwegian) in orderings\n",
    "                for (dog, snails, fox, horse, ZEBRA) in orderings\n",
    "                for (coffee, tea, milk, oj, WATER) in orderings\n",
    "                for (OldGold, Kools, Chesterfields, LuckyStrike, Parliaments) in orderings\n",
    "                if Englishman is red                #2\n",
    "                if Spaniard is dog                  #3\n",
    "                if coffee is green                  #4\n",
    "                if Ukranian is tea                  #5\n",
    "                if imright(green, ivory)            #6\n",
    "                if OldGold is snails                #7\n",
    "                if Kools is yellow                  #8\n",
    "                if milk is middle                   #9\n",
    "                if Norwegian is first               #10\n",
    "                if nextto(Chesterfields, fox)       #11\n",
    "                if nextto(Kools, horse)             #12\n",
    "                if LuckyStrike is oj                #13\n",
    "                if Japanese is Parliaments          #14\n",
    "                if nextto(Norwegian, blue)          #15\n",
    "               )\n",
    "# print(zebra_puzzle())"
   ]
  },
  {
   "cell_type": "code",
   "execution_count": 7,
   "metadata": {},
   "outputs": [
    {
     "name": "stdout",
     "output_type": "stream",
     "text": [
      "(1, 5)\n"
     ]
    }
   ],
   "source": [
    "# 调整if的顺序可以减少循环\n",
    "def zebra_puzzle():\n",
    "    houses = first,_,middle,_,_=[1, 2, 3, 4, 5]\n",
    "    orderings = list(itertools.permutations(houses))\n",
    "    return next((WATER,ZEBRA) # 生成器表达式\n",
    "                for (red, green, ivory, yellow, blue) in orderings\n",
    "                if imright(green, ivory)            #6\n",
    "\n",
    "                for (Englishman, Spaniard, Ukranian, Japanese, Norwegian) in orderings\n",
    "                if Englishman is red                #2\n",
    "                if Norwegian is first               #10\n",
    "                if nextto(Norwegian, blue)          #15\n",
    "\n",
    "                for (dog, snails, fox, horse, ZEBRA) in orderings\n",
    "                if Spaniard is dog                  #3\n",
    "\n",
    "\n",
    "                for (coffee, tea, milk, oj, WATER) in orderings\n",
    "                if coffee is green                  #4\n",
    "                if Ukranian is tea                  #5\n",
    "                if milk is middle                   #9\n",
    "\n",
    "                for (OldGold, Kools, Chesterfields, LuckyStrike, Parliaments) in orderings\n",
    "                \n",
    "                if OldGold is snails                #7\n",
    "                if Kools is yellow                  #8                \n",
    "                if nextto(Chesterfields, fox)       #11                \n",
    "                if nextto(Kools, horse)             #12               \n",
    "                if LuckyStrike is oj                #13\n",
    "                if Japanese is Parliaments          #14\n",
    "               )\n",
    "print(zebra_puzzle())"
   ]
  },
  {
   "cell_type": "code",
   "execution_count": 8,
   "metadata": {},
   "outputs": [
    {
     "name": "stdout",
     "output_type": "stream",
     "text": [
      "0.0011159999999996728\n"
     ]
    },
    {
     "name": "stderr",
     "output_type": "stream",
     "text": [
      "/Users/yangzhan/anaconda3/lib/python3.7/site-packages/ipykernel_launcher.py:3: DeprecationWarning: time.clock has been deprecated in Python 3.3 and will be removed from Python 3.8: use time.perf_counter or time.process_time instead\n",
      "  This is separate from the ipykernel package so we can avoid doing imports until\n",
      "/Users/yangzhan/anaconda3/lib/python3.7/site-packages/ipykernel_launcher.py:5: DeprecationWarning: time.clock has been deprecated in Python 3.3 and will be removed from Python 3.8: use time.perf_counter or time.process_time instead\n",
      "  \"\"\"\n"
     ]
    }
   ],
   "source": [
    "import time\n",
    "def t():\n",
    "    t0 = time.clock()\n",
    "    zebra_puzzle()\n",
    "    t1 = time.clock()\n",
    "    return t1-t0\n",
    "print(t())"
   ]
  },
  {
   "cell_type": "markdown",
   "metadata": {},
   "source": [
    "# 3. 用时计算"
   ]
  },
  {
   "cell_type": "code",
   "execution_count": 18,
   "metadata": {},
   "outputs": [
    {
     "name": "stderr",
     "output_type": "stream",
     "text": [
      "/Users/yangzhan/anaconda3/lib/python3.7/site-packages/ipykernel_launcher.py:4: DeprecationWarning: time.clock has been deprecated in Python 3.3 and will be removed from Python 3.8: use time.perf_counter or time.process_time instead\n",
      "  after removing the cwd from sys.path.\n",
      "/Users/yangzhan/anaconda3/lib/python3.7/site-packages/ipykernel_launcher.py:6: DeprecationWarning: time.clock has been deprecated in Python 3.3 and will be removed from Python 3.8: use time.perf_counter or time.process_time instead\n",
      "  \n"
     ]
    },
    {
     "data": {
      "text/plain": [
       "(0.001097000000001458, (1, 5))"
      ]
     },
     "execution_count": 18,
     "metadata": {},
     "output_type": "execute_result"
    }
   ],
   "source": [
    "# 单次用时计算\n",
    "import time\n",
    "def timedcall(fn,*args):\n",
    "    t0=time.clock()\n",
    "    result = fn(*args)\n",
    "    t1 = time.clock()\n",
    "    return t1-t0,result\n",
    "timedcall(zebra_puzzle)"
   ]
  },
  {
   "cell_type": "code",
   "execution_count": 31,
   "metadata": {},
   "outputs": [
    {
     "name": "stderr",
     "output_type": "stream",
     "text": [
      "/Users/yangzhan/anaconda3/lib/python3.7/site-packages/ipykernel_launcher.py:4: DeprecationWarning: time.clock has been deprecated in Python 3.3 and will be removed from Python 3.8: use time.perf_counter or time.process_time instead\n",
      "  after removing the cwd from sys.path.\n",
      "/Users/yangzhan/anaconda3/lib/python3.7/site-packages/ipykernel_launcher.py:6: DeprecationWarning: time.clock has been deprecated in Python 3.3 and will be removed from Python 3.8: use time.perf_counter or time.process_time instead\n",
      "  \n"
     ]
    },
    {
     "data": {
      "text/plain": [
       "(0.0007330000000003167, 0.0009064899999999199, 0.001910999999999774)"
      ]
     },
     "execution_count": 31,
     "metadata": {},
     "output_type": "execute_result"
    }
   ],
   "source": [
    "# 多次用时计算\n",
    "def timedcalles(n,fn,*args):\n",
    "    if isinstance(n,int):\n",
    "        times = [timedcall(fn,*args)[0] for _ in range(n)]\n",
    "    else:\n",
    "        while sum(times) < n:\n",
    "            times.append(timedcall(fn, *args)[0])\n",
    "    return min(times), average(times), max(times)\n",
    "\n",
    "def average(numbers):\n",
    "    \"Return the average (arithmetic mean) of a sequence of numbers.\"\n",
    "    return sum(numbers) / float(len(numbers)) \n",
    "\n",
    "timecalles(100,zebra_puzzle)"
   ]
  },
  {
   "cell_type": "code",
   "execution_count": 43,
   "metadata": {},
   "outputs": [
    {
     "name": "stdout",
     "output_type": "stream",
     "text": [
      "zebra_puzzle got (1, 5) with    25 iters over    2775 items\n"
     ]
    }
   ],
   "source": [
    "# 统计循环次数\n",
    "def zebra_puzzle():\n",
    "    houses = [first, _, middle, _, _] = [1, 2, 3, 4, 5]\n",
    "    orderings = list(itertools.permutations(houses))  #1\n",
    "    return next((WATER, ZEBRA)\n",
    "            for (red, green, ivory, yellow, blue) in c(orderings)\n",
    "            if imright(green, ivory)        #6\n",
    "            for (Englishman, Spaniard, Ukranian, Japanese, Norwegian) in c(orderings)\n",
    "            if Englishman is red            #2\n",
    "            if Norwegian is first           #10\n",
    "            if nextto(Norwegian, blue)      #15\n",
    "            for (coffee, tea, milk, oj, WATER) in c(orderings)\n",
    "            if coffee is green              #4\n",
    "            if Ukranian is tea              #5\n",
    "            if milk is middle               #9\n",
    "            for (OldGold, Kools, Chesterfields, LuckyStrike, Parliaments) in c(orderings)\n",
    "            if Kools is yellow              #8\n",
    "            if LuckyStrike is oj            #13\n",
    "            if Japanese is Parliaments      #14\n",
    "            for (dog, snails, fox, horse, ZEBRA) in c(orderings)\n",
    "            if Spaniard is dog              #3\n",
    "            if OldGold is snails            #7\n",
    "            if nextto(Chesterfields, fox)   #11\n",
    "            if nextto(Kools, horse)         #12\n",
    "            )\n",
    "def instrument_fn(fn,*args):\n",
    "    c.starts,c.items=0,0\n",
    "    result = fn(*args)\n",
    "    print('%s got %s with %5d iters over %7d items' % (fn.__name__, result, c.starts, c.items))\n",
    "\n",
    "def c(seq):\n",
    "    c.starts+=1\n",
    "    for item in seq:\n",
    "        c.items+=1\n",
    "        yield item\n",
    "instrument_fn(zebra_puzzle)"
   ]
  },
  {
   "cell_type": "markdown",
   "metadata": {},
   "source": [
    "结一下，我们从我们的朋友zebra，已经学到了什么？\n",
    "- Concept inventory。我们学习了我们构造1个概念清单的方式。\n",
    "- Refine ideas。改善想法。\n",
    "- Simple implementation。选择我们可以想出的最简单的实现。\n",
    "- back envelope。在信封背面估算，说明运行这个简单的实现，将花多久时间。\n",
    "- Refine code。必要时，改善代码，通过交换一些从句，使它更快。\n",
    "- tools。我们也学习了构建工具的想法。我们为timing计时和counts计数构建了工具。\n",
    "- aspect。总的来说，我们学习了从程序的切面分离的想法，尽可能地尝试保持设计得干净(clean)，以便你能够保证，what was working on getting the problem right and what was working on making it more efficient。\n",
    "在最后，你可能会说，哇，那是个聪明的解决方案。看着它如何作出(解决)，但是，我们可以看到，如果我们仅仅遵循这些步骤，每1次我们都可以到达1个像那样的解决方案。"
   ]
  },
  {
   "cell_type": "markdown",
   "metadata": {},
   "source": [
    "# 4. Cryptarithmetic难题\n",
    "- ODD+ODD=EVEN, 每个字母代表的数字"
   ]
  },
  {
   "cell_type": "code",
   "execution_count": 50,
   "metadata": {},
   "outputs": [
    {
     "data": {
      "text/plain": [
       "True"
      ]
     },
     "execution_count": 50,
     "metadata": {},
     "output_type": "execute_result"
    }
   ],
   "source": [
    "table = str.maketrans('ABC', '123')\n",
    "f='A+B==C'\n",
    "f.translate(table)        # '1 + 2 == 3'\n",
    "eval(f.translate(table))  # True"
   ]
  },
  {
   "cell_type": "code",
   "execution_count": 56,
   "metadata": {},
   "outputs": [],
   "source": [
    "import re \n",
    "\n",
    "def solve(formula):\n",
    "    \"\"\"Given a formula like 'ODD + ODD == EVEN', fill in digits to solve it.\n",
    "    Input formula is a string; output is a digit-filled-in string or None.\"\"\"\n",
    "    # Your code here\n",
    "    for f in fill_in(formula):\n",
    "        if valid(f):return f\n",
    "    \n",
    "def fill_in(formula):\n",
    "    \"Generate all possible fillings-in of letters in formula with digits.\"\n",
    "    letters = ''.join(set(re.findall(r'[A-Z]',formula)))#should be a string\n",
    "    for digits in itertools.permutations('1234567890', len(letters)):\n",
    "        table = str.maketrans(letters, ''.join(digits))\n",
    "        yield formula.translate(table)\n",
    "    \n",
    "def valid(f):\n",
    "    \"\"\"Formula f is valid if and only if it has no \n",
    "    numbers with leading zero, and evals true.\"\"\"\n",
    "    try: \n",
    "        return not re.search(r'\\b0[0-9]', f) and eval(f) is True\n",
    "    except ArithmeticError:\n",
    "        return False"
   ]
  },
  {
   "cell_type": "code",
   "execution_count": 70,
   "metadata": {},
   "outputs": [
    {
     "name": "stdout",
     "output_type": "stream",
     "text": [
      "<re.Match object; span=(3, 5), match='01'>\n"
     ]
    }
   ],
   "source": [
    "formula = 'A**2 + BE**2 == BY**2'\n",
    "letters = ''.join(set(re.findall(r'[A-Z]',formula)))#should be a string\n",
    "\n",
    "print(re.search(r'\\b0[0-9]', \"12+013\"))"
   ]
  },
  {
   "cell_type": "code",
   "execution_count": 73,
   "metadata": {},
   "outputs": [],
   "source": [
    "examples = \"\"\"TWO + TWO == FOUR\n",
    "A**2 + B**2 == C**2\n",
    "A**2 + BE**2 == BY**2\n",
    "X / X == X\n",
    "A**N + B**N == C**N and N > 2\n",
    "ATOM**0.5 == A + TO + M\n",
    "GLITTERS is not GOLD\n",
    "ONE < TWO and FOUR < FIVE\n",
    "ONE < TWO < THREE\n",
    "RAMN == R**3 + RM**3 == N**3 + RX**3\n",
    "sum(range(AA)) == BB\n",
    "sum(range(POP)) == BOBO\n",
    "ODD + ODD == EVEN\n",
    "PLUTO not in set([PLANETS])\"\"\".splitlines()"
   ]
  },
  {
   "cell_type": "code",
   "execution_count": null,
   "metadata": {},
   "outputs": [],
   "source": []
  },
  {
   "cell_type": "code",
   "execution_count": 82,
   "metadata": {},
   "outputs": [
    {
     "name": "stderr",
     "output_type": "stream",
     "text": [
      "/Users/yangzhan/anaconda3/lib/python3.7/site-packages/ipykernel_launcher.py:2: DeprecationWarning: time.clock has been deprecated in Python 3.3 and will be removed from Python 3.8: use time.perf_counter or time.process_time instead\n",
      "  \n",
      "/Users/yangzhan/anaconda3/lib/python3.7/site-packages/ipykernel_launcher.py:4: DeprecationWarning: time.clock has been deprecated in Python 3.3 and will be removed from Python 3.8: use time.perf_counter or time.process_time instead\n",
      "  after removing the cwd from sys.path.\n"
     ]
    },
    {
     "name": "stdout",
     "output_type": "stream",
     "text": [
      "              TWO + TWO == FOUR\n"
     ]
    },
    {
     "name": "stderr",
     "output_type": "stream",
     "text": [
      "/Users/yangzhan/anaconda3/lib/python3.7/site-packages/ipykernel_launcher.py:6: DeprecationWarning: time.clock has been deprecated in Python 3.3 and will be removed from Python 3.8: use time.perf_counter or time.process_time instead\n",
      "  \n"
     ]
    },
    {
     "name": "stdout",
     "output_type": "stream",
     "text": [
      "0.8110 sec:   734 + 734 == 1468 \n",
      "              A**2 + B**2 == C**2\n",
      "0.0021 sec:   3**2 + 4**2 == 5**2 \n",
      "              A**2 + BE**2 == BY**2\n",
      "0.0216 sec:   5**2 + 12**2 == 13**2 \n",
      "              X / X == X\n",
      "0.0000 sec:   1 / 1 == 1 \n",
      "              A**N + B**N == C**N and N > 2\n",
      "0.0733 sec:   None \n",
      "              ATOM**0.5 == A + TO + M\n",
      "0.0059 sec:   1296**0.5 == 1 + 29 + 6 \n",
      "              GLITTERS is not GOLD\n",
      "0.0000 sec:   89411273 is not 8596 \n",
      "              ONE < TWO and FOUR < FIVE\n",
      "3.7492 sec:   194 < 201 and 8176 < 8534 \n",
      "              ONE < TWO < THREE\n",
      "0.6297 sec:   164 < 271 < 23544 \n",
      "              RAMN == R**3 + RM**3 == N**3 + RX**3\n",
      "0.0406 sec:   1729 == 1**3 + 12**3 == 9**3 + 10**3 \n",
      "              sum(range(AA)) == BB\n",
      "0.0001 sec:   sum(range(11)) == 55 \n",
      "              sum(range(POP)) == BOBO\n",
      "0.0004 sec:   sum(range(101)) == 5050 \n",
      "              ODD + ODD == EVEN\n",
      "0.0451 sec:   655 + 655 == 1310 \n",
      "              PLUTO not in set([PLANETS])\n",
      "0.0000 sec:   89514 not in set([8967213]) \n",
      "5.3806 tot.\n"
     ]
    }
   ],
   "source": [
    "def test():\n",
    "    t0 = time.clock()\n",
    "    for example in examples:\n",
    "        print(13*' ', example)\n",
    "        print('%6.4f sec:   %s ' % timedcall(solve, example))\n",
    "    print('%6.4f tot.' % (time.clock()-t0))\n",
    "\n",
    "test()"
   ]
  },
  {
   "cell_type": "code",
   "execution_count": 92,
   "metadata": {},
   "outputs": [
    {
     "name": "stdout",
     "output_type": "stream",
     "text": [
      "         958452 function calls in 1.117 seconds\n",
      "\n",
      "   Ordered by: standard name\n",
      "\n",
      "   ncalls  tottime  percall  cumtime  percall filename:lineno(function)\n",
      "    96933    0.080    0.000    0.198    0.000 <ipython-input-56-c3a8aaae64fb>:10(fill_in)\n",
      "    96932    0.056    0.000    0.899    0.000 <ipython-input-56-c3a8aaae64fb>:17(valid)\n",
      "        1    0.035    0.035    1.132    1.132 <ipython-input-56-c3a8aaae64fb>:3(solve)\n",
      "        1    0.000    0.000    1.133    1.133 <ipython-input-92-e609eb9c1523>:2(test)\n",
      "        1    0.000    0.000    0.000    0.000 <string>:1(<module>)\n",
      "    96932    0.040    0.000    0.180    0.000 re.py:180(search)\n",
      "        1    0.000    0.000    0.000    0.000 re.py:215(findall)\n",
      "    96933    0.046    0.000    0.067    0.000 re.py:271(_compile)\n",
      "    86052    0.648    0.000    0.664    0.000 {built-in method builtins.eval}\n",
      "        1    0.000    0.000    1.133    1.133 {built-in method builtins.exec}\n",
      "    96933    0.021    0.000    0.021    0.000 {built-in method builtins.isinstance}\n",
      "        1    0.000    0.000    0.000    0.000 {built-in method builtins.len}\n",
      "    96932    0.042    0.000    0.042    0.000 {built-in method maketrans}\n",
      "        1    0.000    0.000    0.000    0.000 {method 'disable' of '_lsprof.Profiler' objects}\n",
      "        1    0.000    0.000    0.000    0.000 {method 'findall' of 're.Pattern' objects}\n",
      "    96933    0.018    0.000    0.018    0.000 {method 'join' of 'str' objects}\n",
      "    96932    0.073    0.000    0.073    0.000 {method 'search' of 're.Pattern' objects}\n",
      "    96932    0.058    0.000    0.058    0.000 {method 'translate' of 'str' objects}\n",
      "\n",
      "\n"
     ]
    }
   ],
   "source": [
    "import cProfile\n",
    "def test():solve('TWO + TWO == FOUR')\n",
    "cProfile.run('test()')\n",
    "\n",
    "# 可以看出eval非常耗时，执行次数越多越耗时"
   ]
  },
  {
   "cell_type": "code",
   "execution_count": 156,
   "metadata": {},
   "outputs": [
    {
     "data": {
      "text/plain": [
       "'(1*U+10*O+100*Y)'"
      ]
     },
     "execution_count": 156,
     "metadata": {},
     "output_type": "execute_result"
    }
   ],
   "source": [
    "def compile_word(word):\n",
    "    if word.isupper():\n",
    "        terms = [('%s*%s' % (10**i, d)) # 格式化i和d\n",
    "                 for (i, d) in enumerate(word[::-1])] # 反序\n",
    "        return '(' + '+'.join(terms) + ')'\n",
    "    else:\n",
    "        return word\n",
    "word='YOU'\n",
    "compile(word)"
   ]
  },
  {
   "cell_type": "code",
   "execution_count": null,
   "metadata": {},
   "outputs": [],
   "source": [
    "# 编译单词，减少eval 提升速度\n",
    "def faster_solve(formula):\n",
    "    f,letters = compile_formula(formula)\n",
    "    for digits in itertools.permutations((1,2,3,4,5,6,7,8,9,0),len(letters)):\n",
    "        try:\n",
    "            if f(*digits) is True:\n",
    "                table = str.maketrans(letters,''.join(map(str,digits)))\n",
    "                return formula.translate(table)\n",
    "        except ArithmeticError:\n",
    "            pass\n",
    "\n",
    "def compile_formula(formula,verbose=False):\n",
    "    \"\"\" compile formula into a function \n",
    "    'YOU == ME**2' return (lambda Y, M, E, U, O: (U+10*0+100*Y) == (E+10*M)**2), 'YMEUO'\n",
    "    \"\"\"\n",
    "    letters = ''.join(set(re.findall('[A-Z]',formula)))\n",
    "    parms = ','.join(letters)\n",
    "    tokens = map(compile_word, re.split('([A-Z]+)',formula))\n",
    "    body=''.join(tokens)\n",
    "    f = 'lambda %s:%s' % (parms,body)\n",
    "    if verbose: print(f)\n",
    "    return eval(f),letters"
   ]
  },
  {
   "cell_type": "code",
   "execution_count": 163,
   "metadata": {},
   "outputs": [
    {
     "name": "stdout",
     "output_type": "stream",
     "text": [
      "         338 function calls (335 primitive calls) in 0.000 seconds\n",
      "\n",
      "   Ordered by: standard name\n",
      "\n",
      "   ncalls  tottime  percall  cumtime  percall filename:lineno(function)\n",
      "        7    0.000    0.000    0.000    0.000 <ipython-input-156-5672a0d12a64>:1(compile_word)\n",
      "        3    0.000    0.000    0.000    0.000 <ipython-input-156-5672a0d12a64>:3(<listcomp>)\n",
      "        1    0.000    0.000    0.000    0.000 <ipython-input-160-d49d417efc35>:12(compile_formula)\n",
      "        1    0.000    0.000    0.000    0.000 <ipython-input-160-d49d417efc35>:2(faster_solve)\n",
      "        1    0.000    0.000    0.000    0.000 <ipython-input-163-7d1bedd9c3a1>:2(test)\n",
      "      296    0.000    0.000    0.000    0.000 <string>:1(<lambda>)\n",
      "        1    0.000    0.000    0.000    0.000 <string>:1(<module>)\n",
      "        1    0.000    0.000    0.000    0.000 re.py:205(split)\n",
      "        1    0.000    0.000    0.000    0.000 re.py:215(findall)\n",
      "        2    0.000    0.000    0.000    0.000 re.py:271(_compile)\n",
      "        1    0.000    0.000    0.000    0.000 {built-in method builtins.eval}\n",
      "        1    0.000    0.000    0.000    0.000 {built-in method builtins.exec}\n",
      "        2    0.000    0.000    0.000    0.000 {built-in method builtins.isinstance}\n",
      "        1    0.000    0.000    0.000    0.000 {built-in method builtins.len}\n",
      "        1    0.000    0.000    0.000    0.000 {built-in method maketrans}\n",
      "        1    0.000    0.000    0.000    0.000 {method 'disable' of '_lsprof.Profiler' objects}\n",
      "        1    0.000    0.000    0.000    0.000 {method 'findall' of 're.Pattern' objects}\n",
      "        7    0.000    0.000    0.000    0.000 {method 'isupper' of 'str' objects}\n",
      "      7/4    0.000    0.000    0.000    0.000 {method 'join' of 'str' objects}\n",
      "        1    0.000    0.000    0.000    0.000 {method 'split' of 're.Pattern' objects}\n",
      "        1    0.000    0.000    0.000    0.000 {method 'translate' of 'str' objects}\n",
      "\n",
      "\n"
     ]
    }
   ],
   "source": [
    "import cProfile\n",
    "def test():faster_solve('TWO + TWO == FOUR')\n",
    "cProfile.run('test()')"
   ]
  },
  {
   "cell_type": "code",
   "execution_count": 165,
   "metadata": {},
   "outputs": [
    {
     "name": "stdout",
     "output_type": "stream",
     "text": [
      "              TWO + TWO == FOUR\n",
      "0.0003 sec:   132 + 132 == 0264 \n",
      "              A**2 + B**2 == C**2\n",
      "0.0002 sec:   3**2 + 4**2 == 5**2 \n",
      "              A**2 + BE**2 == BY**2\n",
      "0.0018 sec:   3**2 + 04**2 == 05**2 \n",
      "              X / X == X\n",
      "0.0001 sec:   1 / 1 == 1 \n",
      "              A**N + B**N == C**N and N > 2\n",
      "0.0058 sec:   None \n",
      "              ATOM**0.5 == A + TO + M\n",
      "0.0005 sec:   1296**0.5 == 1 + 29 + 6 \n",
      "              GLITTERS is not GOLD\n",
      "0.0001 sec:   89411273 is not 8596 \n",
      "              ONE < TWO and FOUR < FIVE\n",
      "0.0004 sec:   083 < 190 and 7065 < 7423 \n",
      "              ONE < TWO < THREE\n",
      "0.0007 sec:   053 < 160 < 12433 \n",
      "              RAMN == R**3 + RM**3 == N**3 + RX**3\n",
      "0.0033 sec:   1729 == 1**3 + 12**3 == 9**3 + 10**3 \n",
      "              sum(range(AA)) == BB\n",
      "0.0001 sec:   sum(range(11)) == 55 \n",
      "              sum(range(POP)) == BOBO\n",
      "0.0001 sec:   sum(range(101)) == 5050 \n",
      "              ODD + ODD == EVEN\n",
      "0.0043 sec:   655 + 655 == 1310 \n",
      "              PLUTO not in set([PLANETS])\n",
      "0.0003 sec:   89514 not in set([8967213]) \n",
      "0.0209 tot.\n"
     ]
    },
    {
     "name": "stderr",
     "output_type": "stream",
     "text": [
      "/Users/yangzhan/anaconda3/lib/python3.7/site-packages/ipykernel_launcher.py:16: DeprecationWarning: time.clock has been deprecated in Python 3.3 and will be removed from Python 3.8: use time.perf_counter or time.process_time instead\n",
      "  app.launch_new_instance()\n",
      "/Users/yangzhan/anaconda3/lib/python3.7/site-packages/ipykernel_launcher.py:4: DeprecationWarning: time.clock has been deprecated in Python 3.3 and will be removed from Python 3.8: use time.perf_counter or time.process_time instead\n",
      "  after removing the cwd from sys.path.\n",
      "/Users/yangzhan/anaconda3/lib/python3.7/site-packages/ipykernel_launcher.py:6: DeprecationWarning: time.clock has been deprecated in Python 3.3 and will be removed from Python 3.8: use time.perf_counter or time.process_time instead\n",
      "  \n",
      "/Users/yangzhan/anaconda3/lib/python3.7/site-packages/ipykernel_launcher.py:20: DeprecationWarning: time.clock has been deprecated in Python 3.3 and will be removed from Python 3.8: use time.perf_counter or time.process_time instead\n"
     ]
    }
   ],
   "source": [
    "examples = \"\"\"TWO + TWO == FOUR\n",
    "A**2 + B**2 == C**2\n",
    "A**2 + BE**2 == BY**2\n",
    "X / X == X\n",
    "A**N + B**N == C**N and N > 2\n",
    "ATOM**0.5 == A + TO + M\n",
    "GLITTERS is not GOLD\n",
    "ONE < TWO and FOUR < FIVE\n",
    "ONE < TWO < THREE\n",
    "RAMN == R**3 + RM**3 == N**3 + RX**3\n",
    "sum(range(AA)) == BB\n",
    "sum(range(POP)) == BOBO\n",
    "ODD + ODD == EVEN\n",
    "PLUTO not in set([PLANETS])\"\"\".splitlines()\n",
    "def test():\n",
    "    t0 = time.clock()\n",
    "    for example in examples:\n",
    "        print(13*' ', example)\n",
    "        print('%6.4f sec:   %s ' % timedcall(faster_solve, example))\n",
    "    print('%6.4f tot.' % (time.clock()-t0))\n",
    "\n",
    "test()"
   ]
  },
  {
   "cell_type": "markdown",
   "metadata": {},
   "source": [
    "# 5. 总结\n",
    "- python\n",
    "  - 列表生成式list comprehension\n",
    "  - 生成器表达式generator expression\n",
    "  - timedcalls(n, ...)\n",
    "  - eval()\n",
    "\n",
    "- instrumentation\n",
    "  - timedcalls程序\n",
    "  - c debug"
   ]
  },
  {
   "cell_type": "markdown",
   "metadata": {},
   "source": [
    "# 6.作业\n",
    "- 首字母不能为0\n",
    "- "
   ]
  },
  {
   "cell_type": "code",
   "execution_count": 168,
   "metadata": {},
   "outputs": [],
   "source": [
    "def compile_formula(formula,verbose=False):\n",
    "    \"\"\" compile formula into a function \n",
    "    'YOU == ME**2' return (lambda Y, M, E, U, O: (U+10*0+100*Y) == (E+10*M)**2), 'YMEUO'\n",
    "    \"\"\"\n",
    "    letters = ''.join(set(re.findall('[A-Z]',formula)))\n",
    "    firstletters = set(re.findall(r'\\b([A-Z])[A-Z]',formula))\n",
    "    parms = ','.join(letters)\n",
    "    tokens = map(compile_word, re.split('([A-Z]+)',formula))\n",
    "    body=''.join(tokens)\n",
    "    if firstletters:\n",
    "        tests = ' and '.join(L+'!=0' for L in firstletters)\n",
    "        body = '%s and (%s)' % (tests,body)\n",
    "    f = 'lambda %s:%s' % (parms,body)\n",
    "    if verbose: print(f)\n",
    "    return eval(f),letters"
   ]
  },
  {
   "cell_type": "code",
   "execution_count": 169,
   "metadata": {},
   "outputs": [
    {
     "name": "stdout",
     "output_type": "stream",
     "text": [
      "              TWO + TWO == FOUR\n",
      "0.0633 sec:   734 + 734 == 1468 \n",
      "              A**2 + B**2 == C**2\n",
      "0.0004 sec:   3**2 + 4**2 == 5**2 \n",
      "              A**2 + BE**2 == BY**2\n",
      "0.0021 sec:   5**2 + 12**2 == 13**2 \n",
      "              X / X == X\n",
      "0.0001 sec:   1 / 1 == 1 \n",
      "              A**N + B**N == C**N and N > 2\n",
      "0.0046 sec:   None \n",
      "              ATOM**0.5 == A + TO + M\n",
      "0.0004 sec:   1296**0.5 == 1 + 29 + 6 \n",
      "              GLITTERS is not GOLD\n",
      "0.0001 sec:   89411273 is not 8596 \n",
      "              ONE < TWO and FOUR < FIVE\n",
      "0.1434 sec:   194 < 201 and 8176 < 8534 \n",
      "              ONE < TWO < THREE\n",
      "0.0239 sec:   164 < 271 < 23544 \n",
      "              RAMN == R**3 + RM**3 == N**3 + RX**3\n",
      "0.0033 sec:   1729 == 1**3 + 12**3 == 9**3 + 10**3 \n",
      "              sum(range(AA)) == BB\n",
      "0.0001 sec:   sum(range(11)) == 55 \n",
      "              sum(range(POP)) == BOBO\n",
      "0.0001 sec:   sum(range(101)) == 5050 \n",
      "              ODD + ODD == EVEN\n",
      "0.0028 sec:   655 + 655 == 1310 \n",
      "              PLUTO not in set([PLANETS])\n",
      "0.0001 sec:   89514 not in set([8967213]) \n",
      "0.2494 tot.\n"
     ]
    },
    {
     "name": "stderr",
     "output_type": "stream",
     "text": [
      "/Users/yangzhan/anaconda3/lib/python3.7/site-packages/ipykernel_launcher.py:2: DeprecationWarning: time.clock has been deprecated in Python 3.3 and will be removed from Python 3.8: use time.perf_counter or time.process_time instead\n",
      "  \n",
      "/Users/yangzhan/anaconda3/lib/python3.7/site-packages/ipykernel_launcher.py:4: DeprecationWarning: time.clock has been deprecated in Python 3.3 and will be removed from Python 3.8: use time.perf_counter or time.process_time instead\n",
      "  after removing the cwd from sys.path.\n",
      "/Users/yangzhan/anaconda3/lib/python3.7/site-packages/ipykernel_launcher.py:6: DeprecationWarning: time.clock has been deprecated in Python 3.3 and will be removed from Python 3.8: use time.perf_counter or time.process_time instead\n",
      "  \n"
     ]
    }
   ],
   "source": [
    "def test():\n",
    "    t0 = time.clock()\n",
    "    for example in examples:\n",
    "        print(13*' ', example)\n",
    "        print('%6.4f sec:   %s ' % timedcall(faster_solve, example))\n",
    "    print('%6.4f tot.' % (time.clock()-t0))\n",
    "\n",
    "test()"
   ]
  },
  {
   "cell_type": "code",
   "execution_count": 171,
   "metadata": {},
   "outputs": [
    {
     "name": "stdout",
     "output_type": "stream",
     "text": [
      "(0, 7)\n",
      "tests pass\n"
     ]
    }
   ],
   "source": [
    "# 对称字母\n",
    "\n",
    "def longest_subpalindrome_slice(text):\n",
    "    \"Return (i, j) such that text[i:j] is the longest palindrome in text.\"\n",
    "    # Your code here\n",
    "    if text == '':return (0,0)\n",
    "    def length(slice):\n",
    "        a,b=slice\n",
    "        return b-a\n",
    "    candidates=[grow(text,start,end)\n",
    "    for start in range(len(text))\n",
    "    for end in (start,start+1)]\n",
    "    return max(candidates,key=length)\n",
    "def grow(text,start,end):\n",
    "    while (start>0 and end<len(text) \n",
    "    and text[start-1].upper()==text[end].upper()):\n",
    "        start -=1;end +=1\n",
    "    return (start,end)\n",
    "    \n",
    "def test():\n",
    "    L = longest_subpalindrome_slice\n",
    "    print(L('racecar'))\n",
    "    assert L('racecar') == (0, 7)\n",
    "    assert L('Racecar') == (0, 7)\n",
    "    assert L('RacecarX') == (0, 7)\n",
    "    assert L('Race carr') == (7, 9)\n",
    "    assert L('') == (0, 0)\n",
    "    assert L('something rac e car going') == (8,21)\n",
    "    assert L('xxxxx') == (0, 5)\n",
    "    assert L('Mad am I ma dam.') == (0, 15)\n",
    "    return 'tests pass'\n",
    "\n",
    "print(test())"
   ]
  },
  {
   "cell_type": "code",
   "execution_count": null,
   "metadata": {},
   "outputs": [],
   "source": []
  }
 ],
 "metadata": {
  "kernelspec": {
   "display_name": "Python 3",
   "language": "python",
   "name": "python3"
  },
  "language_info": {
   "codemirror_mode": {
    "name": "ipython",
    "version": 3
   },
   "file_extension": ".py",
   "mimetype": "text/x-python",
   "name": "python",
   "nbconvert_exporter": "python",
   "pygments_lexer": "ipython3",
   "version": "3.7.3"
  }
 },
 "nbformat": 4,
 "nbformat_minor": 2
}
