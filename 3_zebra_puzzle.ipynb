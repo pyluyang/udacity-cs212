{
 "cells": [
  {
   "cell_type": "markdown",
   "metadata": {},
   "source": [
    "# 1 问题\n",
    "\n",
    "5个不同国家且工作各不相同的人分别住在一条街上的5所房子里，每所房子的颜色不同，每个人都有自己养的不同的宠物，喜欢喝不同的饮料。\n",
    "根据以下提示，哪个房子里的人养斑马（zebra），哪个房子里的人喜欢喝矿泉水？\n",
    "\n",
    "1. 英国人住在红色的房子里。\n",
    "2. 西班牙人养了一条狗。\n",
    "3. 日本人是一个油漆工。\n",
    "4. 意大利人喜欢喝茶。\n",
    "5. 挪威人住在左边的第一个房子里。\n",
    "6. 绿房子在白房子的右边。\n",
    "7. 摄影师养了一只蜗牛。\n",
    "8. 外交官住在黄房子里。\n",
    "9. 中间那个房子里的人喜欢喝牛奶。\n",
    "10. 喜欢喝咖啡的人住在绿房子里。\n",
    "11. 挪威人住在蓝色的房子旁边。\n",
    "12. 小提琴家喜欢喝橘子汁。\n",
    "13. 养狐狸的人所住的房子与医师的房子相邻。\n",
    "14. 养马（非斑马）的人所住的房子与外交官的房子相邻。"
   ]
  },
  {
   "cell_type": "code",
   "execution_count": null,
   "metadata": {},
   "outputs": [],
   "source": []
  }
 ],
 "metadata": {
  "kernelspec": {
   "display_name": "Python 3",
   "language": "python",
   "name": "python3"
  },
  "language_info": {
   "codemirror_mode": {
    "name": "ipython",
    "version": 3
   },
   "file_extension": ".py",
   "mimetype": "text/x-python",
   "name": "python",
   "nbconvert_exporter": "python",
   "pygments_lexer": "ipython3",
   "version": "3.7.3"
  }
 },
 "nbformat": 4,
 "nbformat_minor": 2
}
