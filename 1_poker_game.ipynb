{
 "cells": [
  {
   "cell_type": "markdown",
   "metadata": {},
   "source": [
    "# 0.规则介绍\n",
    "- ![](https://tva1.sinaimg.cn/large/006y8mN6gy1g71e9tx2d4j30ro1aun6a.jpg)\n",
    "- 本程序就是要根据上面的规则，将玩家的扑克牌进行大小的比较"
   ]
  },
  {
   "cell_type": "markdown",
   "metadata": {},
   "source": [
    "# 1. 构建基本比较大小程序\n",
    "- 排序规则hand_rank\n",
    "- 不同牌型的识别函数"
   ]
  },
  {
   "cell_type": "code",
   "execution_count": 7,
   "metadata": {},
   "outputs": [],
   "source": [
    "# -----------\n",
    "# \n",
    "# \n",
    "# Modify the hand_rank function so that it returns the\n",
    "# correct output for the remaining hand types, which are:\n",
    "# full house, flush, straight, three of a kind, two pair,\n",
    "# pair, and high card hands. \n",
    "# \n",
    "#\n",
    "#\n",
    "# straight(ranks): returns True if the hand is a straight.\n",
    "# flush(hand):     returns True if the hand is a flush.\n",
    "# kind(n, ranks):  returns the first rank that the hand has\n",
    "#                  exactly n of. For A hand with 4 sevens \n",
    "#                  this function would return 7.\n",
    "# two_pair(ranks): if there is a two pair, this function \n",
    "#                  returns their corresponding ranks as a \n",
    "#                  tuple. For example, a hand with 2 twos\n",
    "#                  and 2 fours would cause this function\n",
    "#                  to return (4, 2).\n",
    "# card_ranks(hand) returns an ORDERED tuple of the ranks \n",
    "#                  in a hand (where the order goes from\n",
    "#                  highest to lowest rank). \n",
    "#\n",
    "# Since we are assuming that some functions are already\n",
    "# written, this code will not RUN. Clicking SUBMIT will \n",
    "# tell you if you are correct.\n",
    "\n",
    "# 按\n",
    "def poker(hands):\n",
    "    \"Return the best hand: poker([hand,...]) => hand\"\n",
    "    return max(hands, key=hand_rank)\n",
    "\n",
    "# 排序规则\n",
    "def hand_rank(hand):\n",
    "    ranks = card_ranks(hand)\n",
    "    if straight(ranks) and flush(hand):            # straight flush\n",
    "        return (8, max(ranks))\n",
    "    elif kind(4, ranks):                           # 4 of a kind\n",
    "        return (7, kind(4, ranks), kind(1, ranks))\n",
    "    elif kind(3, ranks) and kind(2, ranks):        # full house\n",
    "        return (6,kind(3,ranks),kind(2,ranks))\n",
    "    elif flush(hand):                              # flush\n",
    "        return (5,ranks)\n",
    "    elif straight(ranks):                          # straight\n",
    "        return (4,max(ranks))\n",
    "    elif kind(3, ranks):                           # 3 of a kind\n",
    "        return (3,kind(3,ranks),ranks)\n",
    "    elif two_pair(ranks):                          # 2 pair\n",
    "        return (2,two_pair(ranks),ranks)\n",
    "    elif kind(2, ranks):                           # kind\n",
    "        return (1,kind(2,ranks),ranks)\n",
    "    else:                                          # high card\n",
    "        return (0,ranks)\n",
    "\n"
   ]
  },
  {
   "cell_type": "code",
   "execution_count": 8,
   "metadata": {},
   "outputs": [],
   "source": [
    "def card_ranks(cards):\n",
    "    \"Return a list of the ranks, sorted with higher first.\"  \n",
    "#     ranks = [r for r,s in cards]\n",
    "#     temp = {'T':'10','J':'11','Q':'12','K':'13','A':'14'}\n",
    "#     ranks = [int(temp[i]) if i in temp else int(i) for i in ranks]\n",
    "#     ranks.sort(reverse=True)\n",
    "    ranks = ['--23456789TJQKA'.index(r) for r, s in cards]\n",
    "    ranks.sort(reverse = True)\n",
    "    return ranks\n",
    "assert card_ranks(['AC', '3D', '4S', 'KH'])==[14,13,4,3] #should output [14, 13, 4, 3]"
   ]
  },
  {
   "cell_type": "code",
   "execution_count": 9,
   "metadata": {},
   "outputs": [],
   "source": [
    "def straight(ranks):\n",
    "    \"Return True if the ordered ranks form a 5-card straight.\"\n",
    "    # 顺子\n",
    "    flag=True\n",
    "    for i in range(len(ranks)-1):\n",
    "        if ranks[i]-ranks[i+1]!=1:\n",
    "            flag=False\n",
    "    return flag\n",
    "        \n",
    "\n",
    "def flush(hand):\n",
    "    \"Return True if all the cards have the same suit.\"\n",
    "    # 同一花色\n",
    "    s = set([s for r,s in hand])\n",
    "    return len(s)==1\n",
    "\n",
    "sf = \"6C 7C 8C 9C TC\".split()\n",
    "fk = \"9D 9H 9S 9C 7D\".split()\n",
    "fh = \"TD TC TH 7C 7D\".split()\n",
    "assert straight(card_ranks(sf)) == True\n",
    "assert straight(card_ranks(fk)) == False\n",
    "assert flush(sf) == True\n",
    "assert flush(fk) == False"
   ]
  },
  {
   "cell_type": "code",
   "execution_count": 10,
   "metadata": {},
   "outputs": [],
   "source": [
    "def kind(n, ranks):\n",
    "    \"\"\"Return the first rank that this hand has exactly n of.\n",
    "    Return None if there is no n-of-a-kind in the hand.\"\"\"\n",
    "    # \n",
    "    for r in ranks:\n",
    "        if ranks.count(r) == n: return r \n",
    "    return None\n",
    "assert kind(4, card_ranks(fk)) == 9\n",
    "assert kind(3, card_ranks(fk)) == None\n",
    "assert kind(2, card_ranks(fk)) == None\n",
    "assert kind(1, card_ranks(fk)) == 7"
   ]
  },
  {
   "cell_type": "code",
   "execution_count": 11,
   "metadata": {},
   "outputs": [
    {
     "name": "stdout",
     "output_type": "stream",
     "text": [
      "(10, 9)\n"
     ]
    }
   ],
   "source": [
    "def two_pair(ranks):\n",
    "    \"\"\"If there are two pair, return the two ranks as a\n",
    "    tuple: (highest, lowest); otherwise return None.\"\"\"\n",
    "    # Your code here.\n",
    "#     highest = kind(2,ranks)\n",
    "#     if highest:\n",
    "#         lowest = kind(2,ranks.remove(highest))\n",
    "#     if highest and lowest:\n",
    "#         return (highest,lowest)\n",
    "#     else:\n",
    "#         return None\n",
    "    pair = kind(2,ranks)\n",
    "    lowpair = kind(2,list(reversed(ranks)))\n",
    "    if pair and pair!=lowpair:\n",
    "        return(pair,lowpair)\n",
    "    else:\n",
    "        return None\n",
    "\n",
    "    \n",
    "tp = \"TD 9H TH 9C 3S\".split() # Two Pair\n",
    "print(two_pair(card_ranks(tp)))"
   ]
  },
  {
   "cell_type": "code",
   "execution_count": 12,
   "metadata": {},
   "outputs": [],
   "source": [
    "\"Test cases for the functions in poker program\"\n",
    "sf = \"6C 7C 8C 9C TC\".split() # Straight Flush\n",
    "fk = \"9D 9H 9S 9C 7D\".split() # Four of a Kind\n",
    "fh = \"TD TC TH 7C 7D\".split() # Full House\n",
    "assert poker([sf, fk, fh]) == sf\n",
    "assert poker([fk, fh]) == fk\n",
    "assert poker([fh, fh]) == fh\n",
    "assert poker([sf]) == sf\n",
    "assert poker([sf] + 99*[fh]) == sf"
   ]
  },
  {
   "cell_type": "markdown",
   "metadata": {},
   "source": [
    "# 2. 规则的补充\n",
    "- A，2，3，4，5 作为最小顺子\n",
    "- 所有最大allmax\n"
   ]
  },
  {
   "cell_type": "code",
   "execution_count": 42,
   "metadata": {},
   "outputs": [],
   "source": [
    "#  A，2，3，4，5 作为顺子\n",
    "def card_ranks(cards):\n",
    "    \"Return a list of the ranks, sorted with higher first.\"  \n",
    "#     ranks = [r for r,s in cards]\n",
    "#     temp = {'T':'10','J':'11','Q':'12','K':'13','A':'14'}\n",
    "#     ranks = [int(temp[i]) if i in temp else int(i) for i in ranks]\n",
    "#     ranks.sort(reverse=True)\n",
    "    ranks = ['--23456789TJQKA'.index(r) for r, s in cards]\n",
    "    ranks.sort(reverse = True)\n",
    "    if ranks==[14,5,4,3,2]:ranks = [5,4,3,2,1]\n",
    "    return ranks\n",
    "assert card_ranks(['AC', '3D', '4S', '2H','5S'])==[5,4,3,2,1] #should output [14, 13, 4, 3]"
   ]
  },
  {
   "cell_type": "code",
   "execution_count": 16,
   "metadata": {},
   "outputs": [],
   "source": [
    "# 所有最大\n",
    "def poker(hands):\n",
    "    \"Return a list of winning hands: poker([hand,...]) => [hand,...]\"\n",
    "    return allmax(hands, key=hand_rank)\n",
    "\n",
    "def allmax(iterable, key=None):\n",
    "    \"Return a list of all items equal to the max of the iterable.\"\n",
    "    # Your code here.\n",
    "    max_hand = None\n",
    "    reslut = []\n",
    "    key = key or (lambda x:x)\n",
    "    for i in iterable:\n",
    "        value = key(i)\n",
    "        if not max_hand or value>max_hand:\n",
    "            max_hand = value\n",
    "            reslut = [i]\n",
    "        elif value==max_hand:\n",
    "            reslut.append(i)\n",
    "    return reslut\n",
    "\n",
    "\"Test cases for the functions in poker program.\"\n",
    "sf1 = \"6C 7C 8C 9C TC\".split() # Straight Flush\n",
    "sf2 = \"6D 7D 8D 9D TD\".split() # Straight Flush\n",
    "fk = \"9D 9H 9S 9C 7D\".split() # Four of a Kind\n",
    "fh = \"TD TC TH 7C 7D\".split() # Full House\n",
    "poker([sf1, sf2, fk, fh]) \n",
    "assert poker([sf1, sf2, fk, fh]) == [sf1, sf2] "
   ]
  },
  {
   "cell_type": "code",
   "execution_count": 53,
   "metadata": {},
   "outputs": [
    {
     "name": "stdout",
     "output_type": "stream",
     "text": [
      "[['AS', '2S', '3S', '2D', '5H'], ['8H', 'TC', '9D', 'KC', 'QC'], ['AC', 'TS', '3D', '6D', 'KD'], ['8C', '7S', 'JH', '6S', '5C'], ['TD', 'JD', '5S', 'QS', 'AH']]\n"
     ]
    }
   ],
   "source": [
    "# 随机生成规则\n",
    "import random # this will be a useful library for shuffling\n",
    "\n",
    "# This builds a deck of 52 cards. If you are unfamiliar\n",
    "# with this notation, check out Andy's supplemental video\n",
    "# on list comprehensions (you can find the link in the \n",
    "# Instructor Comments box below).\n",
    "\n",
    "mydeck = [r+s for r in '23456789TJQKA' for s in 'SHDC'] \n",
    "\n",
    "def deal(numhands, n=5, deck=mydeck):\n",
    "    random.shuffle(deck)\n",
    "    return [deck[n*i:n*(i+1)] for i in range(numhands)]\n",
    "\n",
    "print(deal(5))"
   ]
  },
  {
   "cell_type": "code",
   "execution_count": 65,
   "metadata": {},
   "outputs": [
    {
     "name": "stdout",
     "output_type": "stream",
     "text": [
      "       no pair: 0.002%\n",
      "      one pair: 0.024%\n",
      "      two pair: 0.149%\n",
      "Three of a kind: 0.196%\n",
      "      Straight: 0.384%\n",
      "         Flush: 2.084%\n",
      "    Full house: 4.768%\n",
      "Four of a kind:42.230%\n",
      "Straight flush:50.162%\n"
     ]
    }
   ],
   "source": [
    "# hand 概率问题\n",
    "hand_names=[\"Straight flush\",\"Four of a kind\",\"Full house\",\"Flush\",\"Straight\",\"Three of a kind\",\"two pair\",\"one pair\",\"no pair\"]\n",
    "reversed(hand_names)\n",
    "def hand_percentage(n=700*1000):\n",
    "    counts = [0]*9\n",
    "    for i in range(int(n/10)):\n",
    "        for hand in deal(10):\n",
    "            ranking = hand_rank(hand)[0]\n",
    "            counts[ranking]+=1\n",
    "    for i in reversed(range(9)):\n",
    "        print(\"%14s:%6.3f%%\" % (hand_names[i],100.*counts[i]/n))\n",
    "hand_percentage()"
   ]
  },
  {
   "cell_type": "markdown",
   "metadata": {},
   "source": [
    "# 3 代码重构\n",
    "- 程序设计的多个纬度：正确，效率，特性，优雅。先保证正确\n",
    "- hand_rank 重构，很多地方执行了kind函数，没有DRY：don not repeat youself"
   ]
  },
  {
   "cell_type": "code",
   "execution_count": 13,
   "metadata": {},
   "outputs": [],
   "source": [
    "# \n",
    "def group(items):\n",
    "    \"\"\"return the list of [(count,x)...] highest count first then highest x first\"\"\"\n",
    "    groups = [(items.count(x),x) for x in set(items)]\n",
    "    groups.sort(reverse=True)\n",
    "    return groups\n",
    "\n",
    "def unzip(pairs): return zip(*pairs)\n",
    "\n",
    "# groups = group([\"--23456789TJQKA\".index(r) for r, s in fk])\n",
    "# print(groups)\n",
    "# counts,ranks=unzip(groups)\n",
    "# print(counts,ranks)"
   ]
  },
  {
   "cell_type": "code",
   "execution_count": 17,
   "metadata": {},
   "outputs": [],
   "source": [
    "def hand_rank1(hand):\n",
    "    groups = group(['--23456789TJQKA'.index(r) for r,s in hand])\n",
    "    counts,ranks = unzip(groups)\n",
    "    if ranks==[14,5,4,3,2]:ranks = [5,4,3,2,1]\n",
    "    straight = len(counts)==5 and max(ranks)-min(ranks)==4\n",
    "    flush = len(set([s for r,s in hand]))==1\n",
    "    return (9 if (5,) == counts else\n",
    "           8 if straight and flush else\n",
    "           7 if (4,1)==counts else \n",
    "           6 if (3,2) == counts else \n",
    "           5 if flush else\n",
    "           4 if straight else \n",
    "           3 if (3,1,1)==counts else \n",
    "           2 if (2,2,1)== counts else \n",
    "           1 if (2,1,1,1)== counts else\n",
    "           0),ranks"
   ]
  },
  {
   "cell_type": "code",
   "execution_count": 18,
   "metadata": {},
   "outputs": [
    {
     "data": {
      "text/plain": [
       "[['6C', '7C', '8C', '9C', 'TC'], ['6D', '7D', '8D', '9D', 'TD']]"
      ]
     },
     "execution_count": 18,
     "metadata": {},
     "output_type": "execute_result"
    }
   ],
   "source": [
    "\n",
    "\"Test cases for the functions in poker program.\"\n",
    "sf1 = \"6C 7C 8C 9C TC\".split() # Straight Flush\n",
    "sf2 = \"6D 7D 8D 9D TD\".split() # Straight Flush\n",
    "fk = \"9D 9H 9S 9C 7D\".split() # Four of a Kind\n",
    "fh = \"TD TC TH 7C 7D\".split() # Full House\n",
    "poker([sf1,sf2,fk,fh])"
   ]
  },
  {
   "cell_type": "markdown",
   "metadata": {},
   "source": [
    "# 4. shuffle 问题"
   ]
  },
  {
   "cell_type": "code",
   "execution_count": 41,
   "metadata": {},
   "outputs": [
    {
     "ename": "SyntaxError",
     "evalue": "invalid syntax (<ipython-input-41-6b5fd927b829>, line 28)",
     "output_type": "error",
     "traceback": [
      "\u001b[0;36m  File \u001b[0;32m\"<ipython-input-41-6b5fd927b829>\"\u001b[0;36m, line \u001b[0;32m28\u001b[0m\n\u001b[0;31m    def shuffle3(deck):\u001b[0m\n\u001b[0m      ^\u001b[0m\n\u001b[0;31mSyntaxError\u001b[0m\u001b[0;31m:\u001b[0m invalid syntax\n"
     ]
    }
   ],
   "source": [
    "import random\n",
    "# teacher's \n",
    "def swap(deck,i,j):\n",
    "    deck[i],deck[j]=deck[j],deck[i]\n",
    "def shuffle1(deck):\n",
    "    N=len(deck)\n",
    "    swapped = [False]*N\n",
    "    while not all(swapped):\n",
    "        i,j=random.randrange(N),random.randrange(N)\n",
    "        swapped[i]=swapped[j]=True\n",
    "        swap(deck,i,j)\n",
    "\n",
    "        \n",
    "def shuffle(deck):\n",
    "    N=len(deck)\n",
    "    for i in range(N-1):\n",
    "        j = random.randrange(i,N)\n",
    "        swap(deck,i,j)\n",
    "\n",
    "def shuffle2(deck):\n",
    "    N=len(deck)\n",
    "    swapped = [False]*N\n",
    "    while not all(swapped):\n",
    "        i,j=random.randrange(N),random.randrange(N)\n",
    "        swapped[i]=True\n",
    "        swap(deck,i,j\n",
    "\n",
    "def shuffle3(deck):\n",
    "    N = len(deck)\n",
    "    for i in range(N):\n",
    "        swap(deck,i,random.randrange(N))\n",
    "\n",
    "\n",
    "# 测试\n",
    "deck=list(\"fhashfiurhfghs\")\n",
    "shuffle2(deck)\n",
    "deck"
   ]
  },
  {
   "cell_type": "code",
   "execution_count": 42,
   "metadata": {},
   "outputs": [
    {
     "name": "stdout",
     "output_type": "stream",
     "text": [
      "shuffle1(abc)*** BAD ***\n",
      "abc: 5.1\n",
      "acb:14.5\n",
      "bac:13.9\n",
      "bca:26.8\n",
      "cab:25.9\n",
      "cba:13.9\n",
      "shuffle2(abc)ok\n",
      "abc:15.8\n",
      "acb:17.1\n",
      "bac:17.3\n",
      "bca:16.6\n",
      "cab:16.5\n",
      "cba:16.6\n",
      "shuffle3(abc)*** BAD ***\n",
      "abc:15.0\n",
      "acb:19.6\n",
      "bac:19.0\n",
      "bca:17.8\n",
      "cab:14.3\n",
      "cba:14.3\n",
      "shuffle1(ab)*** BAD ***\n",
      "ab:17.4\n",
      "ba:82.5\n",
      "shuffle2(ab)ok\n",
      "ab:49.9\n",
      "ba:50.1\n",
      "shuffle3(ab)ok\n",
      "ab:50.7\n",
      "ba:49.3\n"
     ]
    }
   ],
   "source": [
    "from collections import defaultdict\n",
    "\n",
    "def test_shuffler(shuffler,deck='abcd',n=10000):\n",
    "    counts = defaultdict(int)\n",
    "    for _ in range(n):\n",
    "        input = list(deck)\n",
    "        shuffler(input)\n",
    "        counts[''.join(input)] +=1\n",
    "    e = n*1./factorial(len(deck))\n",
    "    ok = all((0.9<=counts[item]/e<=1.1) for item in counts)\n",
    "    name = shuffler.__name__\n",
    "    print('%s(%s)%s' % (name,deck,('ok' if ok else '*** BAD ***')))\n",
    "    for item ,count in sorted(counts.items()):\n",
    "        print(\"%s:%4.1f\" % (item,count*100./n))\n",
    "def factorial(n):return 1 if(n<=1) else n*factorial(n-1)\n",
    "\n",
    "for deck in [\"abc\",\"ab\"]:\n",
    "    for f in [shuffle1,shuffle2,shuffle3]:\n",
    "        test_shuffler(f,deck)"
   ]
  },
  {
   "cell_type": "markdown",
   "metadata": {},
   "source": [
    "# 5. 作业\n",
    "- 7张卡片中找到最好的5张\n",
    "- joker作为赖子找最好的"
   ]
  },
  {
   "cell_type": "code",
   "execution_count": 44,
   "metadata": {},
   "outputs": [],
   "source": [
    "# 7张卡片中找最好的5张\n",
    "import itertools\n",
    "def best_hand(hand):\n",
    "    five_hands = list(itertools.combinations(hand,5))\n",
    "    return max(five_hands,key=hand_rank)\n",
    "\n",
    "assert (sorted(best_hand(\"6C 7C 8C 9C TC 5C JS\".split()))\n",
    "            == ['6C', '7C', '8C', '9C', 'TC'])\n",
    "assert (sorted(best_hand(\"TD TC TH 7C 7D 8C 8S\".split()))\n",
    "            == ['8C', '8S', 'TC', 'TD', 'TH'])\n",
    "assert (sorted(best_hand(\"JD TC TH 7C 7D 7S 7H\".split()))\n",
    "            == ['7C', '7D', '7H', '7S', 'JD'])"
   ]
  },
  {
   "cell_type": "code",
   "execution_count": 45,
   "metadata": {},
   "outputs": [],
   "source": [
    "# jokers作为赖子，balck->S,C 和 red->H,D\n",
    "allranks = '23456789TJQK'\n",
    "redcards = [r+s for r in \"23456789TJQKA\" for s in 'HD']\n",
    "blackcards =  [r+s for r in \"23456789TJQKA\" for s in 'SC']\n",
    "def best_wild_hand(hand):\n",
    "    hands = set(best_hand(h) for h in itertools.product(*map(replacements,hand)))\n",
    "    return max(hands,key=hand_rank)\n",
    "\n",
    "def replacements(card):\n",
    "    if card == '?B': return blackcards\n",
    "    elif card == '?R': return redcards\n",
    "    else: return [card]\n",
    "    \n",
    "assert (sorted(best_wild_hand(\"6C 7C 8C 9C TC 5C ?B\".split()))\n",
    "            == ['7C', '8C', '9C', 'JC', 'TC'])\n",
    "assert (sorted(best_wild_hand(\"TD TC 5H 5C 7C ?R ?B\".split()))\n",
    "            == ['7C', 'TC', 'TD', 'TH', 'TS'])\n",
    "assert (sorted(best_wild_hand(\"JD TC TH 7C 7D 7S 7H\".split()))\n",
    "            == ['7C', '7D', '7H', '7S', 'JD'])"
   ]
  },
  {
   "cell_type": "code",
   "execution_count": null,
   "metadata": {},
   "outputs": [],
   "source": []
  }
 ],
 "metadata": {
  "kernelspec": {
   "display_name": "Python 3",
   "language": "python",
   "name": "python3"
  },
  "language_info": {
   "codemirror_mode": {
    "name": "ipython",
    "version": 3
   },
   "file_extension": ".py",
   "mimetype": "text/x-python",
   "name": "python",
   "nbconvert_exporter": "python",
   "pygments_lexer": "ipython3",
   "version": "3.7.3"
  }
 },
 "nbformat": 4,
 "nbformat_minor": 2
}
