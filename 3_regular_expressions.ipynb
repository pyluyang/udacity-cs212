{
 "cells": [
  {
   "cell_type": "markdown",
   "metadata": {},
   "source": [
    "# 0. 正则表达式\n",
    "- ![](https://tva1.sinaimg.cn/large/006y8mN6gy1g72we30ki3j317j0u0hbn.jpg)"
   ]
  },
  {
   "cell_type": "markdown",
   "metadata": {},
   "source": [
    "# 1 简单的search和match\n",
    "- https://tinyurl.com/pike-regexp\n",
    "\n",
    "- c    matches any literal character c\n",
    "- .    matches any single character\n",
    "-     ^    matches the beginning of the input string\n",
    "-     $    matches the end of the input string\n",
    "-     *    matches zero or more occurrences of the previous character"
   ]
  },
  {
   "cell_type": "code",
   "execution_count": 24,
   "metadata": {},
   "outputs": [],
   "source": [
    "def search(pattern,text):\n",
    "    \"return True if the pattern appears anywhere in text\"\n",
    "    if pattern.startswith('^'):\n",
    "        return match(pattern[1:],text)\n",
    "    else:\n",
    "        return match('.*'+pattern,text)\n",
    "        \n",
    "def match(pattern,text):\n",
    "    \"return True if the pattern appears at the start of text\"\n",
    "    if pattern=='':\n",
    "        return True\n",
    "    elif pattern==\"$\":\n",
    "        return text==''\n",
    "    elif len(pattern)>1 and pattern[1] in '*?':\n",
    "        p,op,pat = pattern[0],pattern[1],pattern[2:]\n",
    "        if op=='*':\n",
    "            return match_star(p,pat,text)\n",
    "        elif op=='?':\n",
    "            if match1(p,text) and match(pat,text[1:]):\n",
    "                return True\n",
    "            else:\n",
    "                return match(pat,text)\n",
    "    else:\n",
    "        return (match1(pattern[0],text) and match(pattern[1:],text[1:]))\n",
    "\n",
    "def match1(p,text):\n",
    "    \"return true if first character of text match pattern character p\"\n",
    "    if not text:return False\n",
    "    return p=='.' or p==text[0]\n",
    "def match_star(p,pattern,text):\n",
    "    \"return true if any number of char p fllowed by pattern matchs text\"\n",
    "    return (match(pattern,text) or \n",
    "            (match1(p,text) and match_star(p,pattern,text[1:])))        "
   ]
  },
  {
   "cell_type": "code",
   "execution_count": 46,
   "metadata": {},
   "outputs": [
    {
     "name": "stdout",
     "output_type": "stream",
     "text": [
      "True\n"
     ]
    }
   ],
   "source": [
    "print(match('.?abc','dabcjfd'))"
   ]
  },
  {
   "cell_type": "markdown",
   "metadata": {},
   "source": [
    "# 2. language\n",
    "- 编译器与解释器区别"
   ]
  },
  {
   "cell_type": "markdown",
   "metadata": {},
   "source": [
    "![](https://tva1.sinaimg.cn/large/006y8mN6gy1g7ed1favqhj30aw05cdge.jpg)"
   ]
  },
  {
   "cell_type": "code",
   "execution_count": 11,
   "metadata": {},
   "outputs": [
    {
     "name": "stdout",
     "output_type": "stream",
     "text": [
      "tests pass\n"
     ]
    }
   ],
   "source": [
    "def matchset(pattern, text):\n",
    "    \"Match pattern at start of text; return a set of remainders of text.\"\n",
    "    op, x, y = components(pattern)\n",
    "    if 'lit' == op:\n",
    "        return set([text[len(x):]]) if text.startswith(x) else null\n",
    "    elif 'seq' == op:\n",
    "        return set(t2 for t1 in matchset(x, text) for t2 in matchset(y, t1))\n",
    "    elif 'alt' == op:\n",
    "        return matchset(x, text) | matchset(y, text)\n",
    "    elif 'dot' == op:\n",
    "        return set([text[1:]]) if test else null\n",
    "    elif 'oneof' == op:\n",
    "        return set([text[1:]]) if text.startswith(x) else null\n",
    "    elif 'eol' == op:\n",
    "        return set(['']) if text == '' else null\n",
    "    elif 'star' == op:\n",
    "        return (set([text]) |\n",
    "                set(t2 for t1 in matchset(x, text)\n",
    "                    for t2 in matchset(pattern, t1) if t1 != text))\n",
    "    else:\n",
    "        raise ValueError('unknown pattern: %s' % pattern)\n",
    "        \n",
    "null = frozenset()\n",
    "\n",
    "def components(pattern):\n",
    "    \"Return the op, x, and y arguments; x and y are None if missing.\"\n",
    "    x = pattern[1] if len(pattern) > 1 else None\n",
    "    y = pattern[2] if len(pattern) > 2 else None\n",
    "    return pattern[0], x, y\n",
    "   \n",
    "def test():\n",
    "    assert matchset(('lit', 'abc'), 'abcdef')            == set(['def'])\n",
    "    assert matchset(('seq', ('lit', 'hi '),\n",
    "                     ('lit', 'there ')), \n",
    "                   'hi there nice to meet you')          == set(['nice to meet you'])\n",
    "    assert matchset(('alt', ('lit', 'dog'), \n",
    "                    ('lit', 'cat')), 'dog and cat')      == set([' and cat'])\n",
    "    assert matchset(('dot',), 'am i missing something?') == set(['m i missing something?'])\n",
    "    assert matchset(('oneof', 'a'), 'aabc123')           == set(['abc123'])\n",
    "    assert matchset(('eol',),'')                         == set([''])\n",
    "    assert matchset(('eol',),'not end of line')          == frozenset([])\n",
    "    assert matchset(('star', ('lit', 'hey')), 'heyhey!') == set(['!', 'heyhey!', 'hey!'])\n",
    "    \n",
    "    return 'tests pass'\n",
    "\n",
    "print(test())"
   ]
  },
  {
   "cell_type": "code",
   "execution_count": 13,
   "metadata": {},
   "outputs": [
    {
     "name": "stdout",
     "output_type": "stream",
     "text": [
      "tests pass\n"
     ]
    }
   ],
   "source": [
    "def lit(string):  return ('lit', string)\n",
    "def seq(x, y):    return ('seq', x, y)\n",
    "def alt(x, y):    return ('alt', x, y)\n",
    "def star(x):      return ('star', x)\n",
    "def plus(x):      return seq(x,star(x))\n",
    "def opt(x):       return alt(lit(''), x) #opt(x) means that x is optional\n",
    "def oneof(chars): return ('oneof', tuple(chars))\n",
    "dot = ('dot',)\n",
    "eol = ('eol',)\n",
    "\n",
    "def test():\n",
    "    assert lit('abc')         == ('lit', 'abc')\n",
    "    assert seq(('lit', 'a'), \n",
    "               ('lit', 'b'))  == ('seq', ('lit', 'a'), ('lit', 'b'))\n",
    "    assert alt(('lit', 'a'), \n",
    "               ('lit', 'b'))  == ('alt', ('lit', 'a'), ('lit', 'b'))\n",
    "    assert star(('lit', 'a')) == ('star', ('lit', 'a'))\n",
    "    assert plus(('lit', 'c')) == ('seq', ('lit', 'c'), \n",
    "                                  ('star', ('lit', 'c')))\n",
    "    assert opt(('lit', 'x'))  == ('alt', ('lit', ''), ('lit', 'x'))\n",
    "    assert oneof('abc')       == ('oneof', ('a', 'b', 'c'))\n",
    "    return 'tests pass'\n",
    "\n",
    "print(test())"
   ]
  },
  {
   "cell_type": "code",
   "execution_count": 16,
   "metadata": {},
   "outputs": [
    {
     "name": "stdout",
     "output_type": "stream",
     "text": [
      "tests pass\n"
     ]
    }
   ],
   "source": [
    "#---------------\n",
    "# User Instructions\n",
    "#\n",
    "# Complete the search and match functions. Match should\n",
    "# match a pattern only at the start of the text. Search\n",
    "# should match anywhere in the text.\n",
    "\n",
    "def search(pattern, text):\n",
    "    \"Match pattern anywhere in text; return longest earliest match or None.\"\n",
    "    for i in range(len(text)):\n",
    "        m = match(pattern, text[i:])\n",
    "        if m:\n",
    "            return m\n",
    "        \n",
    "def match(pattern, text):\n",
    "    \"Match pattern against start of text; return longest match found or None.\"\n",
    "    remainders = matchset(pattern, text)\n",
    "    if remainders:\n",
    "        shortest = min(remainders, key=len)\n",
    "        return text[:len(text)-len(shortest)]\n",
    "    \n",
    "def components(pattern):\n",
    "    \"Return the op, x, and y arguments; x and y are None if missing.\"\n",
    "    x = pattern[1] if len(pattern) > 1 else None\n",
    "    y = pattern[2] if len(pattern) > 2 else None\n",
    "    return pattern[0], x, y\n",
    "\n",
    "def matchset(pattern, text):\n",
    "    \"Match pattern at start of text; return a set of remainders of text.\"\n",
    "    op, x, y = components(pattern)\n",
    "    if 'lit' == op:\n",
    "        return set([text[len(x):]]) if text.startswith(x) else null\n",
    "    elif 'seq' == op:\n",
    "        return set(t2 for t1 in matchset(x, text) for t2 in matchset(y, t1))\n",
    "    elif 'alt' == op:\n",
    "        return matchset(x, text) | matchset(y, text)\n",
    "    elif 'dot' == op:\n",
    "        return set([text[1:]]) if text else null\n",
    "    elif 'oneof' == op:\n",
    "        return set([text[1:]]) if text.startswith(x) else null\n",
    "    elif 'eol' == op:\n",
    "        return set(['']) if text == '' else null\n",
    "    elif 'star' == op:\n",
    "        return (set([text]) |\n",
    "                set(t2 for t1 in matchset(x, text)\n",
    "                    for t2 in matchset(pattern, t1) if t1 != text))\n",
    "    else:\n",
    "        raise ValueError('unknown pattern: %s' % pattern)\n",
    "    \n",
    "null = frozenset()\n",
    "\n",
    "def lit(string):  return ('lit', string)\n",
    "def seq(x, y):    return ('seq', x, y)\n",
    "def alt(x, y):    return ('alt', x, y)\n",
    "def star(x):      return ('star', x)\n",
    "def plus(x):      return seq(x, star(x))\n",
    "def opt(x):       return alt(lit(''), x)\n",
    "def oneof(chars): return ('oneof', tuple(chars))\n",
    "dot = ('dot',)\n",
    "eol = ('eol',)\n",
    "\n",
    "def test():\n",
    "    assert match(('star', ('lit', 'a')),'aaabcd') == 'aaa'\n",
    "    assert match(('alt', ('lit', 'b'), ('lit', 'c')), 'ab') == None\n",
    "    assert match(('alt', ('lit', 'b'), ('lit', 'a')), 'ab') == 'a'\n",
    "    assert search(('alt', ('lit', 'b'), ('lit', 'c')), 'ab') == 'b'\n",
    "    return 'tests pass'\n",
    "\n",
    "print(test())"
   ]
  },
  {
   "cell_type": "markdown",
   "metadata": {},
   "source": [
    "## 2.1 compiler\n",
    "- 本课需要编译成python函数即可，low-level\n",
    "- C语言的Compiler编译成actual machine instructions (实际的机器指令），最高级的编译器\n",
    "- python和java的编译器（intermediater中级）编译成虚拟机，有一套指令集\n"
   ]
  },
  {
   "cell_type": "code",
   "execution_count": 20,
   "metadata": {
    "scrolled": true
   },
   "outputs": [
    {
     "name": "stdout",
     "output_type": "stream",
     "text": [
      "  3           0 LOAD_GLOBAL              0 (sqrt)\n",
      "              2 LOAD_FAST                0 (x)\n",
      "              4 LOAD_CONST               1 (2)\n",
      "              6 BINARY_POWER\n",
      "              8 LOAD_FAST                1 (y)\n",
      "             10 LOAD_CONST               1 (2)\n",
      "             12 BINARY_POWER\n",
      "             14 BINARY_ADD\n",
      "             16 CALL_FUNCTION            1\n",
      "             18 RETURN_VALUE\n"
     ]
    }
   ],
   "source": [
    "# python的编译过程\n",
    "import dis\n",
    "dis.dis(lambda x,y:sqrt(x**2+y**2))"
   ]
  },
  {
   "cell_type": "code",
   "execution_count": 27,
   "metadata": {},
   "outputs": [
    {
     "name": "stdout",
     "output_type": "stream",
     "text": [
      "tests pass\n"
     ]
    }
   ],
   "source": [
    "# 用编译器解决之前的问题，编译成python函数\n",
    "def match(pattern, text):\n",
    "    \"Match pattern against start of text; return longest match found or None.\"\n",
    "    remainders = pattern(text)\n",
    "    if remainders:\n",
    "        shortest = min(remainders, key=len)\n",
    "        return text[:len(text)-len(shortest)]\n",
    "    \n",
    "def lit(s): return lambda t: set([t[len(s):]]) if t.startswith(s) else null\n",
    "def seq(x, y): return lambda t: set().union(*map(y, x(t)))\n",
    "def alt(x, y): return lambda t: x(t) | y(t)\n",
    "def oneof(chars): return lambda t: set([t[1:]]) if (t and t[0] in chars) else null\n",
    "dot = lambda t: set([t[1:]]) if t else null\n",
    "eol = lambda t: set(['']) if t == '' else null\n",
    "def star(x): return lambda t: (set([t]) | \n",
    "                               set(t2 for t1 in x(t) if t1 != t\n",
    "                                   for t2 in star(x)(t1)))\n",
    "\n",
    "null = frozenset([])\n",
    "\n",
    "def test():\n",
    "    assert match(star(lit('a')), 'aaaaabbbaa') == 'aaaaa'\n",
    "    assert match(lit('hello'), 'hello how are you?') == 'hello'\n",
    "    assert match(lit('x'), 'hello how are you?') == None\n",
    "    assert match(oneof('xyz'), 'x**2 + y**2 = r**2') == 'x'\n",
    "    assert match(oneof('xyz'), '   x is here!') == None\n",
    "    return 'tests pass'\n",
    "print(test())"
   ]
  },
  {
   "cell_type": "code",
   "execution_count": 28,
   "metadata": {},
   "outputs": [
    {
     "name": "stdout",
     "output_type": "stream",
     "text": [
      "tests pass\n"
     ]
    }
   ],
   "source": [
    "# 增加参数Ns\n",
    "def lit(s):         return lambda Ns: set([s]) if len(s) in Ns else null\n",
    "def alt(x, y):      return lambda Ns: x(Ns)|y(Ns)\n",
    "def star(x):        return lambda Ns: opt(plus(x))(Ns)\n",
    "def plus(x):        return lambda Ns: genseq(x, star(x), Ns, startx=1) #Tricky\n",
    "def oneof(chars):   return lambda Ns: set(chars) if 1 in Ns else null\n",
    "def seq(x, y):      return lambda Ns: genseq(x, y, Ns)\n",
    "def opt(x):         return alt(epsilon, x)\n",
    "dot = oneof('?')    # You could expand the alphabet to more chars.\n",
    "epsilon = lit('')   # The pattern that matches the empty string.\n",
    "\n",
    "null = frozenset([])\n",
    "\n",
    "def genseq(x,y,Ns,startx=0):\n",
    "    \"set of matches to xy whose total len is in Ns\"\n",
    "    # Tricky: x+ is defined as:x+=x x*\n",
    "    # to stop the recursion, the first x must generate at least 1 char\n",
    "    # and then the recursion x* has that many fewer characters, we use\n",
    "    # startx=1 to say that x must match at least 1 character\n",
    "    if not Ns:\n",
    "        return null\n",
    "    xmatches = x(set(range(startx,max(Ns)+1)))\n",
    "    Ns_x = set(len(m) for m in xmatches)\n",
    "    Ns_y = set(n-m for n in Ns for m in Ns_x if n-m>=0)\n",
    "    ymatches = y(Ns_y)\n",
    "    return set(m1+m2\n",
    "              for m1 in xmatches for m2 in ymatches\n",
    "              if len(m1+m2) in Ns)\n",
    "    \n",
    "\n",
    "def test():\n",
    "    \n",
    "    f = lit('hello')\n",
    "    assert f(set([1, 2, 3, 4, 5])) == set(['hello'])\n",
    "    assert f(set([1, 2, 3, 4]))    == null \n",
    "    \n",
    "    g = alt(lit('hi'), lit('bye'))\n",
    "    assert g(set([1, 2, 3, 4, 5, 6])) == set(['bye', 'hi'])\n",
    "    assert g(set([1, 3, 5])) == set(['bye'])\n",
    "    \n",
    "    h = oneof('theseletters')\n",
    "    assert h(set([1, 2, 3])) == set(['t', 'h', 'e', 's', 'l', 'r'])\n",
    "    assert h(set([2, 3, 4])) == null\n",
    "    \n",
    "    return 'tests pass'\n",
    "print(test())"
   ]
  },
  {
   "cell_type": "markdown",
   "metadata": {},
   "source": [
    "## 2.2 重构seq，使其能接受多个参数\n",
    "- 使用decorate 是原本的函数可接受多个参数，不需要改变与这个函数相关的其他任何函数"
   ]
  },
  {
   "cell_type": "code",
   "execution_count": 71,
   "metadata": {},
   "outputs": [],
   "source": [
    "def n_ary(f):\n",
    "    \"\"\"Given binary function f(x, y), return an n_ary function such\n",
    "    that f(x, y, z) = f(x, f(y,z)), etc. Also allow f(x) = x.\"\"\"\n",
    "    def n_ary_f(x, *args):\n",
    "        return x if not args else f(x,n_ary_f(*args))\n",
    "    return n_ary_f"
   ]
  },
  {
   "cell_type": "code",
   "execution_count": 72,
   "metadata": {},
   "outputs": [
    {
     "data": {
      "text/plain": [
       "43"
      ]
     },
     "execution_count": 72,
     "metadata": {},
     "output_type": "execute_result"
    }
   ],
   "source": [
    "# 将两个数相加的函数变成多个数相加的函数\n",
    "def add(x,y):\n",
    "    return x+y\n",
    "arry_add=n_ary(add)\n",
    "arry_add(3,6,7,8,9,0,10)"
   ]
  },
  {
   "cell_type": "code",
   "execution_count": 73,
   "metadata": {},
   "outputs": [
    {
     "data": {
      "text/plain": [
       "43"
      ]
     },
     "execution_count": 73,
     "metadata": {},
     "output_type": "execute_result"
    }
   ],
   "source": [
    "# 使用decorate\n",
    "@n_ary\n",
    "def add(x,y):\n",
    "    return x+y\n",
    "add(3,6,7,8,9,0,10)"
   ]
  },
  {
   "cell_type": "code",
   "execution_count": 74,
   "metadata": {},
   "outputs": [
    {
     "data": {
      "text/plain": [
       "('seq', 'a', ('seq', 'b', ('seq', 'c', ('seq', 'd', ('seq', 'e', 'f')))))"
      ]
     },
     "execution_count": 74,
     "metadata": {},
     "output_type": "execute_result"
    }
   ],
   "source": [
    "@n_ary\n",
    "def seq(x,y): return('seq',x,y)\n",
    "seq('a','b','c','d','e','f')"
   ]
  },
  {
   "cell_type": "code",
   "execution_count": 76,
   "metadata": {},
   "outputs": [
    {
     "name": "stdout",
     "output_type": "stream",
     "text": [
      "Help on function n_ary_f in module __main__:\n",
      "\n",
      "n_ary_f(x, *args)\n",
      "\n"
     ]
    }
   ],
   "source": [
    "# 修复documentation错误\n",
    "help(seq)"
   ]
  },
  {
   "cell_type": "code",
   "execution_count": 3,
   "metadata": {},
   "outputs": [
    {
     "name": "stdout",
     "output_type": "stream",
     "text": [
      "Help on function seq in module __main__:\n",
      "\n",
      "seq(x, y)\n",
      "\n"
     ]
    }
   ],
   "source": [
    "from functools import update_wrapper\n",
    "def n_ary(f):\n",
    "    \"\"\"Given binary function f(x, y), return an n_ary function such\n",
    "    that f(x, y, z) = f(x, f(y,z)), etc. Also allow f(x) = x.\"\"\"\n",
    "    def n_ary_f(x, *args):\n",
    "        return x if not args else f(x,n_ary_f(*args))\n",
    "    update_wrapper(n_ary_f,f)\n",
    "    return n_ary_f\n",
    "\n",
    "@n_ary\n",
    "def seq(x,y): return('seq',x,y)\n",
    "\n",
    "help(seq)"
   ]
  },
  {
   "cell_type": "code",
   "execution_count": 4,
   "metadata": {},
   "outputs": [
    {
     "name": "stdout",
     "output_type": "stream",
     "text": [
      "Help on function seq in module __main__:\n",
      "\n",
      "seq(x, y)\n",
      "\n"
     ]
    }
   ],
   "source": [
    "# 将修复documentation的功能变为decorate，因为DRY\n",
    "from functools import update_wrapper\n",
    "def decorator(d):\n",
    "    \"make function d a decorator,d wraps a function fn \"\n",
    "#     def _d(fn):\n",
    "#         return update_wrapper(d(fn),fn)\n",
    "#     update_wrapper(_d,d)\n",
    "#     return _d\n",
    "    return lambda fn:update_wrapper(d(fn),fn)\n",
    "\n",
    "@n_ary\n",
    "def seq(x,y): return('seq',x,y)\n",
    "\n",
    "help(seq)"
   ]
  },
  {
   "cell_type": "markdown",
   "metadata": {},
   "source": [
    "## 2.3 cache管理"
   ]
  },
  {
   "cell_type": "code",
   "execution_count": 15,
   "metadata": {},
   "outputs": [],
   "source": [
    "@decorator\n",
    "def memo(f):\n",
    "    \"\"\"decorator that caches the return value for each call to f(args).\n",
    "    then when called again with some args, we can just look it up\"\"\"\n",
    "    cache={}\n",
    "    def _f(*args):\n",
    "        try:\n",
    "            return cache[args]\n",
    "        except KeyError:\n",
    "            cache[args]=result=f(*args)\n",
    "            return result\n",
    "        except TypeError:\n",
    "            # some element of args can't be a dict key\n",
    "            return f(args)\n",
    "    return _f  "
   ]
  },
  {
   "cell_type": "code",
   "execution_count": 16,
   "metadata": {},
   "outputs": [],
   "source": [
    "callcounts = {}\n",
    "\n",
    "@decorator\n",
    "def countcalls(f):\n",
    "    \"Decorator that makes the function count calls to it, in callcounts[f]\"\n",
    "    def _f(*args):\n",
    "        callcounts[_f]+=1\n",
    "        return f(*args)\n",
    "    callcounts[_f] = 0\n",
    "    return _f\n",
    "\n",
    "\n",
    "@countcalls\n",
    "@memo # 不要@memo 2692537  要memo 59次\n",
    "def fib(n):return 1 if n<=1 else fib(n-1)+fib(n-2)"
   ]
  },
  {
   "cell_type": "code",
   "execution_count": 17,
   "metadata": {},
   "outputs": [
    {
     "data": {
      "text/plain": [
       "1346269"
      ]
     },
     "execution_count": 17,
     "metadata": {},
     "output_type": "execute_result"
    }
   ],
   "source": [
    "fib(30)"
   ]
  },
  {
   "cell_type": "code",
   "execution_count": 18,
   "metadata": {},
   "outputs": [
    {
     "data": {
      "text/plain": [
       "{<function __main__.fib(n)>: 59}"
      ]
     },
     "execution_count": 18,
     "metadata": {},
     "output_type": "execute_result"
    }
   ],
   "source": [
    "callcounts"
   ]
  },
  {
   "cell_type": "markdown",
   "metadata": {},
   "source": [
    "## 2.4 trace"
   ]
  },
  {
   "cell_type": "code",
   "execution_count": 25,
   "metadata": {},
   "outputs": [
    {
     "name": "stdout",
     "output_type": "stream",
     "text": [
      "--> fib(6)\n",
      "   --> fib(5)\n",
      "      --> fib(4)\n",
      "         --> fib(3)\n",
      "            --> fib(2)\n",
      "               --> fib(1)\n",
      "               <-- fib(1) == 1\n",
      "               --> fib(0)\n",
      "               <-- fib(0) == 1\n",
      "            <-- fib(2) == 2\n",
      "            --> fib(1)\n",
      "            <-- fib(1) == 1\n",
      "         <-- fib(3) == 3\n",
      "         --> fib(2)\n",
      "            --> fib(1)\n",
      "            <-- fib(1) == 1\n",
      "            --> fib(0)\n",
      "            <-- fib(0) == 1\n",
      "         <-- fib(2) == 2\n",
      "      <-- fib(4) == 5\n",
      "      --> fib(3)\n",
      "         --> fib(2)\n",
      "            --> fib(1)\n",
      "            <-- fib(1) == 1\n",
      "            --> fib(0)\n",
      "            <-- fib(0) == 1\n",
      "         <-- fib(2) == 2\n",
      "         --> fib(1)\n",
      "         <-- fib(1) == 1\n",
      "      <-- fib(3) == 3\n",
      "   <-- fib(5) == 8\n",
      "   --> fib(4)\n",
      "      --> fib(3)\n",
      "         --> fib(2)\n",
      "            --> fib(1)\n",
      "            <-- fib(1) == 1\n",
      "            --> fib(0)\n",
      "            <-- fib(0) == 1\n",
      "         <-- fib(2) == 2\n",
      "         --> fib(1)\n",
      "         <-- fib(1) == 1\n",
      "      <-- fib(3) == 3\n",
      "      --> fib(2)\n",
      "         --> fib(1)\n",
      "         <-- fib(1) == 1\n",
      "         --> fib(0)\n",
      "         <-- fib(0) == 1\n",
      "      <-- fib(2) == 2\n",
      "   <-- fib(4) == 5\n",
      "<-- fib(6) == 13\n"
     ]
    },
    {
     "data": {
      "text/plain": [
       "13"
      ]
     },
     "execution_count": 25,
     "metadata": {},
     "output_type": "execute_result"
    }
   ],
   "source": [
    "@decorator\n",
    "def trace(f):\n",
    "    indent = '   '\n",
    "    def _f(*args):\n",
    "        signature = '%s(%s)' % (f.__name__, ', '.join(map(repr, args)))\n",
    "        print('%s--> %s' % (trace.level*indent, signature))\n",
    "        trace.level += 1\n",
    "        try:\n",
    "            result = f(*args)\n",
    "            print('%s<-- %s == %s' % ((trace.level-1)*indent, \n",
    "                                      signature, result))\n",
    "        finally:\n",
    "            trace.level -= 1\n",
    "        return result\n",
    "    trace.level = 0\n",
    "    return _f\n",
    "\n",
    "@trace\n",
    "def fib(n):\n",
    "    if n == 0 or n == 1:\n",
    "        return 1\n",
    "    else:\n",
    "        return fib(n-1) + fib(n-2)\n",
    "\n",
    "fib(6) #running this in the browser's IDE  will not display the indentations!"
   ]
  },
  {
   "cell_type": "markdown",
   "metadata": {},
   "source": [
    "### decorator总结\n",
    "- 用于debug：使用countcalls和trace\n",
    "- 提升性能：使用 memo\n",
    "- 扩展函数参数：使用n_ary\n",
    "- 禁止decorator：disabled"
   ]
  },
  {
   "cell_type": "markdown",
   "metadata": {},
   "source": [
    "## 2.5 paser"
   ]
  },
  {
   "cell_type": "code",
   "execution_count": 36,
   "metadata": {},
   "outputs": [
    {
     "name": "stdout",
     "output_type": "stream",
     "text": [
      "{' ': '\\\\s*', 'Exp': (['Term', '[+-]', 'Exp'], ['Term']), 'Term': (['Factor', '[*/]', 'Term'], ['Factor']), 'Factor': (['Funcall'], ['Var'], ['Num'], ['[(]', 'Exp', '[)]']), 'Funcall': (['Var', '[(]', 'Exps', '[)]'],), 'Exps': (['Exp', '[,]', 'Exps'], ['Exp']), 'Var': (['[a-zA-Z_]\\\\w*'],), 'Num': (['[-+]?[0-9]+([.][0-9]*)?'],)}\n",
      "{' ': '()', 'url': (['httpaddress'], ['ftpaddress'], ['mailtoaddress']), 'httpaddress': (['http://', 'hostport', '/path?', '?search?'],), 'ftpaddress': (['ftp://', 'login', '/', 'path', ';', 'ftptype'], ['ftp://', 'login', '/', 'path']), '/path?': (['/', 'path'], ['()']), '?search?': (['[?]', 'search'], ['()']), 'mailtoaddress': (['mailto:', 'xalphas', '@', 'hostname'],), 'hostport': (['host', ':', 'port'], ['host']), 'host': (['hostname'], ['hostnumber']), 'hostname': (['ialpha', '.', 'hostname'], ['ialpha']), 'hostnumber': (['digits', '.', 'digits', '.', 'digits', '.', 'digits'],), 'ftptype': (['A', 'formcode'], ['E', 'formcode'], ['I'], ['L', 'digits']), 'formcode': (['[NTC]'],), 'port': (['digits'], ['path']), 'path': (['void'], ['segment', '/', 'path'], ['segment']), 'segment': (['xalphas'],), 'search': (['xalphas', '+', 'search'], ['xalphas']), 'login': (['userpassword', 'hostport'], ['hostport']), 'userpassword': (['user', ':', 'password', '@'], ['user', '@']), 'user': (['alphanum2', 'user'], ['alphanum2']), 'password': (['alphanum2', 'password'], ['password']), 'void': (['()'],), 'digits': (['digit', 'digits'], ['digit']), 'digit': (['[0-9]'],), 'alpha': (['[a-zA-Z]'],), 'safe': (['[-$_@.&+]'],), 'extra': (['[()!*\\'\\'\"\"]'],), 'escape': (['%', 'hex', 'hex'],), 'hex': (['[0-9a-fA-F]'],), 'alphanum': (['alpha'], ['digit']), 'alphanums': (['alphanum', 'alphanums'], ['alphanum']), 'alphanum2': (['alpha'], ['digit'], ['[-_.+]']), 'ialpha': (['alpha', 'xalphas'], ['alpha']), 'xalphas': (['xalpha', 'xalphas'], ['xalpha']), 'xalpha': (['alpha'], ['digit'], ['safe'], ['extra'], ['escape'])}\n"
     ]
    }
   ],
   "source": [
    "import functools\n",
    "import re\n",
    "\n",
    "# 将一个已知的字符串语法规则转为字典\n",
    "def grammar(description, whitespace = r'\\s*'):\n",
    "    \"\"\"\n",
    "    Convert a description to a grammar. Each line is a rule for a\n",
    "    non-terminal symbol; it looks like this:\n",
    "        Symbol => A1 A2 ... | B1 B2 ... | C1 C2 ...\n",
    "    where the right-hand side is one or more alternatives, separated by\n",
    "    the '|' sign. Each alternative is a sequence of atoms, separated by\n",
    "    spaces.  An atom is either a symbol on syme left-hand side, or it is a\n",
    "    regular expression that will be passed to re.match to match a token.\n",
    "    \n",
    "    Notation for *, +, or ? not allowed in a rule alternative (but ok within a\n",
    "    token). Use '\\' to continue long lines. You must include spaces or tabs\n",
    "    around '=>' and '|'. That's within the grammar description itself(...?). The\n",
    "    grammar that gets defined allows whitespace between tokens by default or\n",
    "    specify '' as the second argument to grammar() to disallow this (or supply\n",
    "    any regular expression to describe allowable whitespace between\n",
    "    tokens).\"\"\"\n",
    "    G = {' ': whitespace}\n",
    "    description = description.replace('\\t', ' ') # no tabs!\n",
    "    for line in split(description, '\\n'):\n",
    "        lhs, rhs = split(line, ' => ', 1)\n",
    "        alternatives = split(rhs, ' | ')\n",
    "        G[lhs] = tuple(map(split, alternatives))\n",
    "    return G\n",
    "def split(text, sep = None, maxsplit = -1):\n",
    "    \"Like str.split applied to text, but strips whitespace from each piece.\"\n",
    "    return [t.strip() for t in text.strip().split(sep, maxsplit) if t]\n",
    "\n",
    "G = grammar(r\"\"\"\n",
    "Exp => Term [+-] Exp | Term\n",
    "Term => Factor [*/] Term | Factor\n",
    "Factor => Funcall | Var | Num | [(] Exp [)]\n",
    "Funcall => Var [(] Exps [)]\n",
    "Exps => Exp [,] Exps | Exp\n",
    "Var => [a-zA-Z_]\\w*\n",
    "Num => [-+]?[0-9]+([.][0-9]*)?\n",
    "\"\"\")\n",
    "\n",
    "print(G)\n",
    "\n",
    "## Parsing URLs\n",
    "## See http://www.w3.org/Addressing/URL/5_BNF.html\n",
    "\n",
    "URL = grammar(\"\"\"\n",
    "url => httpaddress | ftpaddress | mailtoaddress\n",
    "httpaddress => http:// hostport /path? ?search?\n",
    "ftpaddress => ftp:// login / path ; ftptype | ftp:// login / path\n",
    "/path? => / path | ()\n",
    "?search? => [?] search | ()\n",
    "mailtoaddress => mailto: xalphas @ hostname\n",
    "hostport => host : port | host\n",
    "host => hostname | hostnumber\n",
    "hostname => ialpha . hostname | ialpha\n",
    "hostnumber => digits . digits . digits . digits\n",
    "ftptype => A formcode | E formcode | I | L digits\n",
    "formcode => [NTC]\n",
    "port => digits | path\n",
    "path => void | segment / path | segment\n",
    "segment => xalphas\n",
    "search => xalphas + search | xalphas\n",
    "login => userpassword hostport | hostport\n",
    "userpassword => user : password @ | user @\n",
    "user => alphanum2 user | alphanum2\n",
    "password => alphanum2 password | password\n",
    "path => void | segment / path | segment\n",
    "void => ()\n",
    "digits => digit digits | digit\n",
    "digit => [0-9]\n",
    "alpha => [a-zA-Z]\n",
    "safe => [-$_@.&+]\n",
    "extra => [()!*''\"\"]\n",
    "escape => % hex hex\n",
    "hex => [0-9a-fA-F]\n",
    "alphanum => alpha | digit\n",
    "alphanums => alphanum alphanums | alphanum\n",
    "alphanum2 => alpha | digit | [-_.+]\n",
    "ialpha => alpha xalphas | alpha\n",
    "xalphas => xalpha xalphas | xalpha\n",
    "xalpha => alpha | digit | safe | extra | escape\n",
    "\"\"\", whitespace = '()')\n",
    "\n",
    "print(URL)"
   ]
  },
  {
   "cell_type": "code",
   "execution_count": 37,
   "metadata": {},
   "outputs": [
    {
     "name": "stdout",
     "output_type": "stream",
     "text": [
      "dict_values(['\\\\s*', (['Term', '[+-]', 'Exp'], ['Term']), (['Factor', '[*/]', 'Term'], ['Factor']), (['Funcall'], ['Var'], ['Num'], ['[(]', 'Exp', '[)]']), (['Var', '[(]', 'Exps', '[)]'],), (['Exp', '[,]', 'Exps'], ['Exp']), (['[a-zA-Z_]\\\\w*'],), (['[-+]?[0-9]+([.][0-9]*)?'],)])\n",
      "Non-Terms = ' ' 'Exp' 'Exps' 'Factor' 'Funcall' 'Num' 'Term' 'Var'\n",
      "Terminals = '*' '[(]' '[)]' '[*/]' '[+-]' '[,]' '[-+]?[0-9]+([.][0-9]*)?' '[a-zA-Z_]\\\\w*' '\\\\' 's'\n",
      "Suspects = 's'\n",
      "Orphans  = \n",
      "(['Exp', ['Term', ['Factor', ['Num', '3']], '*', ['Term', ['Factor', ['Var', 'x']]]], '+', ['Exp', ['Term', ['Factor', ['Var', 'b']]]]], '')\n",
      "(['Term', ['Factor', ['Num', '3']], '*', ['Term', ['Factor', ['Var', 'x']]]], ' + b')\n"
     ]
    }
   ],
   "source": [
    "def decorator(d):\n",
    "    \"Make function d a decorator: d wraps a function fn.\"\n",
    "    def _d(fn):\n",
    "        return functools.update_wrapper(d(fn), fn)\n",
    "    functools.update_wrapper(_d, d)\n",
    "    return _d\n",
    "\n",
    "@decorator\n",
    "def memo(f):\n",
    "    \"\"\"Decorator that caches the return value for each call to f(args).\n",
    "    Then when called again with same args, we can just look it up.\"\"\"\n",
    "    cache = {}\n",
    "    def _f(*args):\n",
    "        try:\n",
    "            return cache[args]\n",
    "        except KeyError:\n",
    "            cache[args] = result = f(*args)\n",
    "            return result\n",
    "        except TypeError:\n",
    "            # some element of args can't be a dict key\n",
    "            return f(args)\n",
    "    return _f\n",
    "\n",
    "# 按照语法规则解析text\n",
    "def parse(start_symbol, text, grammar):\n",
    "    \"\"\"Example call: parse('Exp', '3*x + b', G).\n",
    "    Returns a (tree, remainder) pair. If remainder is '', it parsed the whole\n",
    "    string. Failure if remainder is None. This is a deterministic PEG parser,\n",
    "    so rule order (left-to-right) matters. Do 'E => T op E | T', putting the\n",
    "    longest parse first; don't do 'E => T | T op E'\n",
    "    Also, no left recursion allowed: don't do 'E => E op T'\n",
    "    See: http://en.wikipedia.org/wiki/Parsing_expression_grammar\n",
    "    \"\"\"\n",
    "    tokenizer = grammar[' '] + '(%s)'\n",
    "\n",
    "    def parse_sequence(sequence, text):\n",
    "        \"\"\"\n",
    "        Try to match the sequence of atoms against text.\n",
    "        \n",
    "        Parameters:\n",
    "            sequence : an iterable of atoms\n",
    "            text : a string\n",
    "        Returns:\n",
    "            Fail : if any atom in sequence does not match\n",
    "            (tree, remainder) : the tree and remainder if the entire sequence matches text\n",
    "        \"\"\"\n",
    "        result = []\n",
    "        for atom in sequence:\n",
    "            tree, text = parse_atom(atom, text)\n",
    "            if text is None: return Fail\n",
    "            result.append(tree)\n",
    "        return result, text\n",
    "\n",
    "    @memo\n",
    "    def parse_atom(atom, text):\n",
    "        \"\"\"\n",
    "        Parameters:\n",
    "        atom : either a key in grammar or a regular expression\n",
    "        text : a string\n",
    "        Returns:\n",
    "        Fail : if no match can be found\n",
    "        (tree, remainder) : if a match is found\n",
    "            tree is the parse tree of the first match found\n",
    "            remainder is the text that was not matched\n",
    "        \"\"\"\n",
    "        if atom in grammar:  # Non-Terminal: tuple of alternatives\n",
    "            for alternative in grammar[atom]:\n",
    "                tree, rem = parse_sequence(alternative, text)\n",
    "                if rem is not None: return [atom]+tree, rem  \n",
    "            return Fail\n",
    "        else:  # Terminal: match characters against start of text\n",
    "            m = re.match(tokenizer % atom, text)\n",
    "            return Fail if (not m) else (m.group(1), text[m.end():])\n",
    "    \n",
    "    return parse_atom(start_symbol, text)\n",
    "\n",
    "Fail = (None, None)\n",
    "\n",
    "def verify(G):\n",
    "    lhstokens = set(G) - set([' '])\n",
    "    print(G.values())\n",
    "    rhstokens = set(t for alts in G.values() for alt in alts for t in alt)\n",
    "    def show(title, tokens): print(title, '=', ' '.join(map(repr, sorted(tokens))))\n",
    "    show('Non-Terms', G)\n",
    "    show('Terminals', rhstokens - lhstokens)\n",
    "    show('Suspects', [t for t in (rhstokens-lhstokens) if t.isalnum()])\n",
    "    show('Orphans ', lhstokens-rhstokens)\n",
    "\n",
    "if __name__ == '__main__':\n",
    "    verify(G)    \n",
    "    print(parse('Exp', '3*x + b', G))\n",
    "    print(parse('Term', '3*x + b', G))\n",
    "\n",
    "    # print(URL)\n",
    "    # verify(URL)\n",
    "    # print(parse('url', 'http://www.w3.org/Addressing/URL/5_BNF.html', URL))"
   ]
  },
  {
   "cell_type": "markdown",
   "metadata": {},
   "source": [
    "# 3 作业"
   ]
  },
  {
   "cell_type": "markdown",
   "metadata": {},
   "source": [
    "## 3.1 json parser"
   ]
  },
  {
   "cell_type": "code",
   "execution_count": 41,
   "metadata": {},
   "outputs": [
    {
     "name": "stdout",
     "output_type": "stream",
     "text": [
      "tests pass\n"
     ]
    },
    {
     "name": "stderr",
     "output_type": "stream",
     "text": [
      "/Users/yangzhan/anaconda3/lib/python3.7/site-packages/ipykernel_launcher.py:94: FutureWarning: Possible nested set at position 5\n"
     ]
    }
   ],
   "source": [
    "# ---------------\n",
    "# User Instructions\n",
    "#\n",
    "# In this problem, you will be using many of the tools and techniques\n",
    "# that you developed in unit 3 to write a grammar that will allow\n",
    "# us to write a parser for the JSON language. \n",
    "#\n",
    "# You will have to visit json.org to see the JSON grammar. It is not \n",
    "# presented in the correct format for our grammar function, so you \n",
    "# will need to translate it.\n",
    "\n",
    "# ---------------\n",
    "# Provided functions\n",
    "#\n",
    "# These are all functions that were built in unit 3. They will help\n",
    "# you as you write the grammar.  Add your code at line 102.\n",
    "\n",
    "from functools import update_wrapper\n",
    "# from str import split\n",
    "import re\n",
    "\n",
    "def grammar(description, whitespace=r'\\s*'):\n",
    "    \"\"\"Convert a description to a grammar.  Each line is a rule for a\n",
    "    non-terminal symbol; it looks like this:\n",
    "        Symbol =>  A1 A2 ... | B1 B2 ... | C1 C2 ...\n",
    "    where the right-hand side is one or more alternatives, separated by\n",
    "    the '|' sign.  Each alternative is a sequence of atoms, separated by\n",
    "    spaces.  An atom is either a symbol on some left-hand side, or it is\n",
    "    a regular expression that will be passed to re.match to match a token.\n",
    "    \n",
    "    Notation for *, +, or ? not allowed in a rule alternative (but ok\n",
    "    within a token). Use '\\' to continue long lines.  You must include spaces\n",
    "    or tabs around '=>' and '|'. That's within the grammar description itself.\n",
    "    The grammar that gets defined allows whitespace between tokens by default;\n",
    "    specify '' as the second argument to grammar() to disallow this (or supply\n",
    "    any regular expression to describe allowable whitespace between tokens).\"\"\"\n",
    "    G = {' ': whitespace}\n",
    "    description = description.replace('\\t', ' ') # no tabs!\n",
    "    for line in split(description, '\\n'):\n",
    "        lhs, rhs = split(line, ' => ', 1)\n",
    "        alternatives = split(rhs, ' | ')\n",
    "        G[lhs] = tuple(map(split, alternatives))\n",
    "    return G\n",
    "\n",
    "def decorator(d):\n",
    "    \"Make function d a decorator: d wraps a function fn.\"\n",
    "    def _d(fn):\n",
    "        return update_wrapper(d(fn), fn)\n",
    "    update_wrapper(_d, d)\n",
    "    return _d\n",
    "\n",
    "@decorator\n",
    "def memo(f):\n",
    "    \"\"\"Decorator that caches the return value for each call to f(args).\n",
    "    Then when called again with same args, we can just look it up.\"\"\"\n",
    "    cache = {}\n",
    "    def _f(*args):\n",
    "        try:\n",
    "            return cache[args]\n",
    "        except KeyError:\n",
    "            cache[args] = result = f(*args)\n",
    "            return result\n",
    "        except TypeError:\n",
    "            # some element of args can't be a dict key\n",
    "            return f(args)\n",
    "    return _f\n",
    "\n",
    "def parse(start_symbol, text, grammar):\n",
    "    \"\"\"Example call: parse('Exp', '3*x + b', G).\n",
    "    Returns a (tree, remainder) pair. If remainder is '', it parsed the whole\n",
    "    string. Failure iff remainder is None. This is a deterministic PEG parser,\n",
    "    so rule order (left-to-right) matters. Do 'E => T op E | T', putting the\n",
    "    longest parse first; don't do 'E => T | T op E'\n",
    "    Also, no left recursion allowed: don't do 'E => E op T'\"\"\"\n",
    "\n",
    "    tokenizer = grammar[' '] + '(%s)'\n",
    "\n",
    "    def parse_sequence(sequence, text):\n",
    "        result = []\n",
    "        for atom in sequence:\n",
    "            tree, text = parse_atom(atom, text)\n",
    "            if text is None: return Fail\n",
    "            result.append(tree)\n",
    "        return result, text\n",
    "\n",
    "    @memo\n",
    "    def parse_atom(atom, text):\n",
    "        if atom in grammar:  # Non-Terminal: tuple of alternatives\n",
    "            for alternative in grammar[atom]:\n",
    "                tree, rem = parse_sequence(alternative, text)\n",
    "                if rem is not None: return [atom]+tree, rem  \n",
    "            return Fail\n",
    "        else:  # Terminal: match characters against start of text\n",
    "            m = re.match(tokenizer % atom, text)\n",
    "            return Fail if (not m) else (m.group(1), text[m.end():])\n",
    "    \n",
    "    # Body of parse:\n",
    "    return parse_atom(start_symbol, text)\n",
    "\n",
    "Fail = (None, None)\n",
    "\n",
    "JSON = grammar(\"\"\"object => {} | { members }\n",
    "members => pair [,] members | pair\n",
    "pair => string : value\n",
    "array => [[] []] | [[] elements []]\n",
    "elements => value , elements | value\n",
    "value => string | number | object | array | true | false | null\n",
    "string => \"[^\"]*\"\n",
    "number => int frac exp | int frac | int exp | int\n",
    "int => -?[1-9][0-9]*\n",
    "frac => [.][0-9]+\n",
    "exp => [eE][-+]?[0-9]+\"\"\", whitespace='\\s*')\n",
    "\n",
    "def json_parse(text):\n",
    "    return parse('value', text, JSON)\n",
    "\n",
    "def test():\n",
    "    assert json_parse('[\"testing\", 1, 2, 3]') == (                      \n",
    "                       ['value', ['array', '[', ['elements', ['value', \n",
    "                       ['string', '\"testing\"']], ',', ['elements', ['value', ['number', \n",
    "                       ['int', '1']]], ',', ['elements', ['value', ['number', \n",
    "                       ['int', '2']]], ',', ['elements', ['value', ['number', \n",
    "                       ['int', '3']]]]]]], ']']], '')\n",
    "    \n",
    "    assert json_parse('-123.456e+789') == (\n",
    "                       ['value', ['number', ['int', '-123'], ['frac', '.456'], ['exp', 'e+789']]], '')\n",
    "    \n",
    "    assert json_parse('{\"age\": 21, \"state\":\"CO\",\"occupation\":\"rides the rodeo\"}') == (\n",
    "                      ['value', ['object', '{', ['members', ['pair', ['string', '\"age\"'], \n",
    "                       ':', ['value', ['number', ['int', '21']]]], ',', ['members', \n",
    "                      ['pair', ['string', '\"state\"'], ':', ['value', ['string', '\"CO\"']]], \n",
    "                      ',', ['members', ['pair', ['string', '\"occupation\"'], ':', \n",
    "                      ['value', ['string', '\"rides the rodeo\"']]]]]], '}']], '')\n",
    "    return 'tests pass'\n",
    "\n",
    "print(test())"
   ]
  },
  {
   "cell_type": "markdown",
   "metadata": {},
   "source": [
    "## 3.2 inverse function 反函数"
   ]
  },
  {
   "cell_type": "code",
   "execution_count": 53,
   "metadata": {},
   "outputs": [
    {
     "name": "stdout",
     "output_type": "stream",
     "text": [
      "10.0\n",
      "9.999999999999567\n"
     ]
    }
   ],
   "source": [
    "# --------------\n",
    "# User Instructions\n",
    "#\n",
    "# Write a function, inverse, which takes as input a monotonically\n",
    "# increasing (always increasing) function that is defined on the \n",
    "# non-negative numbers. The runtime of your program should be \n",
    "# proportional to the LOGARITHM of the input. You may want to \n",
    "# do some research into binary search and Newton's method to \n",
    "# help you out.\n",
    "#\n",
    "# This function should return another function which computes the\n",
    "# inverse of the input function. \n",
    "#\n",
    "# Your inverse function should also take an optional parameter, \n",
    "# delta, as input so that the computed value of the inverse will\n",
    "# be within delta of the true value.\n",
    "\n",
    "# -------------\n",
    "# Grading Notes\n",
    "#\n",
    "# Your function will be called with three test cases. The \n",
    "# input numbers will be large enough that your submission\n",
    "# will only terminate in the allotted time if it is \n",
    "# efficient enough. \n",
    "\n",
    "def slow_inverse(f, delta=1/128.):\n",
    "    \"\"\"Given a function y = f(x) that is a monotonically increasing function on\n",
    "    non-negatve numbers, return the function x = f_1(y) that is an approximate\n",
    "    inverse, picking the closest value to the inverse, within delta.\"\"\"\n",
    "    def f_1(y):\n",
    "        x = 0\n",
    "        while f(x) < y:\n",
    "            x += delta\n",
    "        # Now x is too big, x-delta is too small; pick the closest to y\n",
    "        return x if (f(x)-y < y-f(x-delta)) else x-delta\n",
    "    return f_1 \n",
    "\n",
    "def inverse(f, delta = 1/128.):\n",
    "    \"\"\"Given a function y = f(x) that is a monotonically increasing function on\n",
    "    non-negatve numbers, return the function x = f_1(y) that is an approximate\n",
    "    inverse, picking the closest value to the inverse, within delta.\"\"\"\n",
    "    def fn(y):\n",
    "        high = float(y)\n",
    "        low = 0.0\n",
    "        i = 0\n",
    "        while True:\n",
    "            i += 1\n",
    "            x = ( high + low )/2.\n",
    "            if abs( f( x ) - y ) < y * 10 **( -12)  or i > 399 :\n",
    "                return float(x)\n",
    "            elif f(x) < y:\n",
    "                low = x + 1.0\n",
    "            elif f(x) > y:\n",
    "                high = x - 1.0\n",
    "    return fn\n",
    "    \n",
    "\n",
    "cuberoot = slow_inverse(lambda x:x**9)\n",
    "cuberoot1 = inverse(lambda x:x**9)\n",
    "\n",
    "\n",
    "\n",
    "print(cuberoot(1e9))\n",
    "print(cuberoot1(1e9))"
   ]
  },
  {
   "cell_type": "markdown",
   "metadata": {},
   "source": [
    "## 3.3 find html tags"
   ]
  },
  {
   "cell_type": "code",
   "execution_count": 56,
   "metadata": {},
   "outputs": [
    {
     "name": "stdout",
     "output_type": "stream",
     "text": [
      "['<a href=\"www.udacity.com\">', '<b>', '<a href=\"www.udacity.com\"target=\"_blank\">']\n",
      "tests pass\n"
     ]
    }
   ],
   "source": [
    "# ---------------\n",
    "# User Instructions\n",
    "#\n",
    "# Write a function, findtags(text), that takes a string of text\n",
    "# as input and returns a list of all the html start tags in the \n",
    "# text. It may be helpful to use regular expressions to solve\n",
    "# this problem.\n",
    "\n",
    "import re\n",
    "\n",
    "def findtags(text):\n",
    "    # your code here\n",
    "#     params = '(\\w+\\s*=\\s*\"[^\"]*\"\\s*)*'\n",
    "#     tags = '(<\\s*\\w+\\s*'+params+'\\s*/?>)'\n",
    "#     return re.findall(tags,text)\n",
    "  \n",
    "    p = re.compile('< *[a-zA-Z]+ *(?: *[a-z_\\-A-Z]+(?:=\"[^\"]*\")?)* *>')\n",
    "    return  p.findall(text)\n",
    "\n",
    "\n",
    "\n",
    "testtext1 = \"\"\"\n",
    "My favorite website in the world is probably \n",
    "<a href=\"www.udacity.com\">Udacity</a>. If you want \n",
    "that link to open in a <b>new tab</b> by default, you should\n",
    "write <a href=\"www.udacity.com\"target=\"_blank\">Udacity</a>\n",
    "instead!\n",
    "\"\"\"\n",
    "\n",
    "testtext2 = \"\"\"\n",
    "Okay, so you passed the first test case. <let's see> how you \n",
    "handle this one. Did you know that 2 < 3 should return True? \n",
    "So should 3 > 2. But 2 > 3 is always False.\n",
    "\"\"\"\n",
    "\n",
    "testtext3 = \"\"\"\n",
    "It's not common, but we can put a LOT of whitespace into \n",
    "our HTML tags. For example, we can make something bold by\n",
    "doing <         b           > this <   /b    >, Though I \n",
    "don't know why you would ever want to.\n",
    "\"\"\"\n",
    "\n",
    "def test():\n",
    "    print(findtags(testtext1))\n",
    "    assert findtags(testtext1) == ['<a href=\"www.udacity.com\">', \n",
    "                                   '<b>', \n",
    "                                   '<a href=\"www.udacity.com\"target=\"_blank\">']\n",
    "    assert findtags(testtext2) == []\n",
    "    assert findtags(testtext3) == ['<         b           >']\n",
    "    return 'tests pass'\n",
    "\n",
    "print(test())"
   ]
  },
  {
   "cell_type": "code",
   "execution_count": null,
   "metadata": {},
   "outputs": [],
   "source": []
  }
 ],
 "metadata": {
  "kernelspec": {
   "display_name": "Python 3",
   "language": "python",
   "name": "python3"
  },
  "language_info": {
   "codemirror_mode": {
    "name": "ipython",
    "version": 3
   },
   "file_extension": ".py",
   "mimetype": "text/x-python",
   "name": "python",
   "nbconvert_exporter": "python",
   "pygments_lexer": "ipython3",
   "version": "3.7.3"
  }
 },
 "nbformat": 4,
 "nbformat_minor": 2
}
